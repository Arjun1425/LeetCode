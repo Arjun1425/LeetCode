{
 "cells": [
  {
   "cell_type": "markdown",
   "source": [
    "724. Find Pivot Index"
   ],
   "metadata": {
    "collapsed": false
   },
   "id": "ff633706dcaa50cf"
  },
  {
   "cell_type": "code",
   "outputs": [
    {
     "name": "stdout",
     "output_type": "stream",
     "text": [
      "0 \n",
      "Time complexity: O(n) and Space complexity: O(1)\n"
     ]
    }
   ],
   "source": [
    "class Solution:\n",
    "    def pivotIndex(self, nums: list[int]) -> int:\n",
    "        for i in range(len(nums)):\n",
    "            if (i == 0 and sum(nums[1:]) == 0) or (i == (len(nums) - 1) and sum(nums[:i]) == 0): \n",
    "                return 0\n",
    "            else:\n",
    "                if sum(nums[:i]) == sum(nums[i + 1:]): return i\n",
    "                else: pass           \n",
    "        return -1\n",
    "    \n",
    "nums = [2,1,-1]\n",
    "print(Solution().pivotIndex(nums), '\\n'f\"Time complexity: O(n) and Space complexity: O(1)\")"
   ],
   "metadata": {
    "collapsed": true,
    "ExecuteTime": {
     "end_time": "2024-04-17T11:47:27.840177Z",
     "start_time": "2024-04-17T11:47:27.828925Z"
    }
   },
   "id": "initial_id",
   "execution_count": 6
  }
 ],
 "metadata": {
  "kernelspec": {
   "display_name": "Python 3",
   "language": "python",
   "name": "python3"
  },
  "language_info": {
   "codemirror_mode": {
    "name": "ipython",
    "version": 2
   },
   "file_extension": ".py",
   "mimetype": "text/x-python",
   "name": "python",
   "nbconvert_exporter": "python",
   "pygments_lexer": "ipython2",
   "version": "2.7.6"
  }
 },
 "nbformat": 4,
 "nbformat_minor": 5
}
