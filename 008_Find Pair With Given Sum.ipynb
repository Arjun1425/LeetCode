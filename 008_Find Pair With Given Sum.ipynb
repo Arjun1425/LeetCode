{
 "cells": [
  {
   "cell_type": "markdown",
   "source": [
    "Find Pairs\n",
    "Write a function to find all pairs of an integer array whose sum is equal to a given number. Do not consider commutative pairs.\n",
    "\n",
    "Example:\n",
    "pair_sum([2, 4, 3, 5, 6, -2, 4, 7, 8, 9],7)\n",
    "Output : ['2+5', '4+3', '3+4', '-2+9']"
   ],
   "metadata": {
    "collapsed": false
   },
   "id": "ae6f9da9a5fcac4b"
  },
  {
   "cell_type": "code",
   "outputs": [
    {
     "name": "stdout",
     "output_type": "stream",
     "text": [
      "['2 + 5', '4 + 3', '3 + 4', '-2 + 9'] \n",
      "Time Complexity: O(n) and Space Complexity: O(n)\n"
     ]
    }
   ],
   "source": [
    "class Solution:\n",
    "    def pair_sum(self, myList: list[int], target: int) -> list:\n",
    "        out: list = []\n",
    "        for i in range(len(myList)):\n",
    "            find: int = 0\n",
    "            find = target - myList[i]\n",
    "            if i != len(myList) - 1 and find in myList[i+1:]:\n",
    "                out.append(f'{myList[i]} + {find}')\n",
    "        return out\n",
    "\n",
    "myList = [2, 4, 3, 5, 6, -2, 4, 7, 8, 9]\n",
    "target: int = 7\n",
    "print(Solution().pair_sum(myList, target), '\\n'\"Time Complexity: O(n) and Space Complexity: O(n)\")"
   ],
   "metadata": {
    "collapsed": true,
    "ExecuteTime": {
     "end_time": "2024-04-18T12:41:15.557345Z",
     "start_time": "2024-04-18T12:41:15.547638Z"
    }
   },
   "id": "initial_id",
   "execution_count": 3
  }
 ],
 "metadata": {
  "kernelspec": {
   "display_name": "Python 3",
   "language": "python",
   "name": "python3"
  },
  "language_info": {
   "codemirror_mode": {
    "name": "ipython",
    "version": 2
   },
   "file_extension": ".py",
   "mimetype": "text/x-python",
   "name": "python",
   "nbconvert_exporter": "python",
   "pygments_lexer": "ipython2",
   "version": "2.7.6"
  }
 },
 "nbformat": 4,
 "nbformat_minor": 5
}
