{
 "cells": [
  {
   "cell_type": "markdown",
   "source": [
    "692. Top K Frequent Words"
   ],
   "metadata": {
    "collapsed": false
   },
   "id": "9f57cf87b8efc842"
  },
  {
   "cell_type": "code",
   "execution_count": 4,
   "id": "initial_id",
   "metadata": {
    "collapsed": true,
    "ExecuteTime": {
     "end_time": "2024-05-16T13:58:25.433192Z",
     "start_time": "2024-05-16T13:58:25.425715Z"
    }
   },
   "outputs": [
    {
     "name": "stdout",
     "output_type": "stream",
     "text": [
      "['the', 'is', 'sunny', 'day'] \n",
      "Time complexity : O(n^2)\n"
     ]
    }
   ],
   "source": [
    "class Solution:\n",
    "    def topKFrequent(self, words: list[str], k: int) -> list[str]:\n",
    "        dic = {}\n",
    "        for ele in words:\n",
    "            dic[ele] = dic.get(ele, 0) + 1\n",
    "        result = sorted(list(dic.values()), reverse=True)\n",
    "        result1 = []\n",
    "        for i in range(len(result)):\n",
    "            for key, v in dic.items():\n",
    "                if v == result[i]:\n",
    "                    result1.append(key)    \n",
    "        return result1[ : k]\n",
    "\n",
    "#words = [\"i\",\"love\",\"leetcode\",\"i\",\"love\",\"coding\"]\n",
    "words = [\"the\",\"day\",\"is\",\"sunny\",\"the\",\"the\",\"the\",\"sunny\",\"is\",\"is\"]\n",
    "k = 4\n",
    "sol = Solution().topKFrequent(words,k)\n",
    "print(f'{sol} \\nTime complexity : O(n^2)')"
   ]
  },
  {
   "cell_type": "code",
   "outputs": [
    {
     "name": "stdout",
     "output_type": "stream",
     "text": [
      "['the', 'is', 'sunny', 'day'] \n",
      "Time complexity : O(n)\n"
     ]
    }
   ],
   "source": [
    "class Solution:\n",
    "    def topKFrequent(self, words: list[str], k: int) -> list[str]:\n",
    "        dic = {}\n",
    "        for ele in words:\n",
    "            dic[ele] = dic.get(ele, 0) + 1\n",
    "        new_dic = {}\n",
    "        for key,v in dic.items():\n",
    "            new_dic[v] = key\n",
    "        lis = sorted(new_dic.items(), reverse=True)\n",
    "        new_dic = dict(lis) \n",
    "        return list(new_dic.values())[ : k]\n",
    "\n",
    "#words = [\"i\",\"love\",\"leetcode\",\"i\",\"love\",\"coding\"]\n",
    "words = [\"the\",\"day\",\"is\",\"sunny\",\"the\",\"the\",\"the\",\"sunny\",\"is\",\"is\"]\n",
    "k = 4\n",
    "sol = Solution().topKFrequent(words,k)\n",
    "print(f'{sol} \\nTime complexity : O(n)')"
   ],
   "metadata": {
    "collapsed": false,
    "ExecuteTime": {
     "end_time": "2024-05-16T13:58:44.425425Z",
     "start_time": "2024-05-16T13:58:44.417478Z"
    }
   },
   "id": "b10833bc49660b95",
   "execution_count": 5
  }
 ],
 "metadata": {
  "kernelspec": {
   "display_name": "Python 3",
   "language": "python",
   "name": "python3"
  },
  "language_info": {
   "codemirror_mode": {
    "name": "ipython",
    "version": 2
   },
   "file_extension": ".py",
   "mimetype": "text/x-python",
   "name": "python",
   "nbconvert_exporter": "python",
   "pygments_lexer": "ipython2",
   "version": "2.7.6"
  }
 },
 "nbformat": 4,
 "nbformat_minor": 5
}
