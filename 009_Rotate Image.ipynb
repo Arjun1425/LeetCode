{
 "cells": [
  {
   "cell_type": "markdown",
   "source": [
    "48. Rotate Image:\n",
    "\n",
    "-> First transpose the matrix\n",
    "-> Then swap the matrix."
   ],
   "metadata": {
    "collapsed": false
   },
   "id": "269e57f6cdcf6e1b"
  },
  {
   "cell_type": "code",
   "outputs": [
    {
     "name": "stdout",
     "output_type": "stream",
     "text": [
      "[[15, 13, 2, 5], [14, 3, 4, 1], [12, 6, 8, 9], [16, 7, 10, 11]] \n",
      "Time complexity : O(n^2) and space complexity : O(1)\n"
     ]
    }
   ],
   "source": [
    "class Solution:\n",
    "    def rotate(self, matrix: list[list[int]]) -> None:\n",
    "        #Transpose\n",
    "        for i in range(len(matrix)):\n",
    "            for j in range(i, len(matrix)):\n",
    "                matrix[j][i], matrix[i][j] = matrix[i][j], matrix[j][i]\n",
    "        \n",
    "        #Swap in rows' elements\n",
    "        for i in range(len(matrix)): \n",
    "          for j in range(len(matrix)//2): \n",
    "            matrix[i][j], matrix[i][-(j+1)] = matrix[i][-(j+1)], matrix[i][j]\n",
    "    \n",
    "matrix = [[5,1,9,11],[2,4,8,10],[13,3,6,7],[15,14,12,16]]\n",
    "Solution().rotate(matrix)\n",
    "print(matrix, '\\n'f'Time complexity : O(n^2) and space complexity : O(1)')"
   ],
   "metadata": {
    "collapsed": true,
    "ExecuteTime": {
     "end_time": "2024-04-22T19:04:11.656334Z",
     "start_time": "2024-04-22T19:04:11.645582Z"
    }
   },
   "id": "initial_id",
   "execution_count": 6
  }
 ],
 "metadata": {
  "kernelspec": {
   "display_name": "Python 3",
   "language": "python",
   "name": "python3"
  },
  "language_info": {
   "codemirror_mode": {
    "name": "ipython",
    "version": 2
   },
   "file_extension": ".py",
   "mimetype": "text/x-python",
   "name": "python",
   "nbconvert_exporter": "python",
   "pygments_lexer": "ipython2",
   "version": "2.7.6"
  }
 },
 "nbformat": 4,
 "nbformat_minor": 5
}
