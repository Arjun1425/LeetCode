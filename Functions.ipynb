{
 "cells": [
  {
   "cell_type": "markdown",
   "source": [
    "Functions\n",
    "\n",
    "--> Your function should be valid in all the cases w/o showing any errors. It is developers job to write the functions considering all the possible scenarios. "
   ],
   "metadata": {
    "collapsed": false
   },
   "id": "6b8543b5da90826a"
  },
  {
   "cell_type": "markdown",
   "source": [
    "Build the function. \n",
    "\n",
    "Two point of views\n",
    "--> Developer's point of view (building the function)."
   ],
   "metadata": {
    "collapsed": false
   },
   "id": "c2db638b162b355a"
  },
  {
   "cell_type": "code",
   "outputs": [],
   "source": [
    "def is_even(num: int) -> str:\n",
    "    if type(num) == int:             \n",
    "        if num%2 == 0: \n",
    "            return 'even'\n",
    "        else: \n",
    "            return 'odd'\n",
    "    else: return 'Please enter an integer number'"
   ],
   "metadata": {
    "collapsed": true,
    "ExecuteTime": {
     "end_time": "2024-07-08T18:04:16.572025Z",
     "start_time": "2024-07-08T18:04:16.565130Z"
    }
   },
   "id": "initial_id",
   "execution_count": 22
  },
  {
   "cell_type": "markdown",
   "source": [
    "--> User point of view (using the function)."
   ],
   "metadata": {
    "collapsed": false
   },
   "id": "28e838ca83823d15"
  },
  {
   "cell_type": "code",
   "outputs": [
    {
     "name": "stdout",
     "output_type": "stream",
     "text": [
      "odd\n",
      "even\n",
      "odd\n",
      "even\n",
      "odd\n",
      "even\n",
      "odd\n",
      "even\n",
      "odd\n",
      "even\n"
     ]
    }
   ],
   "source": [
    "for i in range(1,11):\n",
    "    x = is_even(i)\n",
    "    print(x)"
   ],
   "metadata": {
    "collapsed": false,
    "ExecuteTime": {
     "end_time": "2024-07-08T18:04:17.846186Z",
     "start_time": "2024-07-08T18:04:17.843592Z"
    }
   },
   "id": "55962ce8d79b902",
   "execution_count": 23
  },
  {
   "cell_type": "markdown",
   "source": [
    "Parameter Vs Argument.\n",
    "\n",
    "The values that are declared within a function when the function is called are known as an argument. The variables that are defined when the function is declared are known as parameters.\n",
    "\n",
    "Types of arguments. \n",
    "\n",
    "--> Default argument.\n",
    "--> Positional argument.\n",
    "--> Keyword argument."
   ],
   "metadata": {
    "collapsed": false
   },
   "id": "f523a7c45a68f420"
  },
  {
   "cell_type": "markdown",
   "source": [
    "Default argument. "
   ],
   "metadata": {
    "collapsed": false
   },
   "id": "598481a0d17fdfae"
  },
  {
   "cell_type": "code",
   "outputs": [],
   "source": [
    "def square(a: int, b: int) -> int:\n",
    "    return a**b"
   ],
   "metadata": {
    "collapsed": false,
    "ExecuteTime": {
     "end_time": "2024-07-08T18:10:42.443380Z",
     "start_time": "2024-07-08T18:10:42.436403Z"
    }
   },
   "id": "e9e794c4cca486dc",
   "execution_count": 25
  },
  {
   "cell_type": "markdown",
   "source": [
    "The below code all will give the error."
   ],
   "metadata": {
    "collapsed": false
   },
   "id": "7a791577f7472046"
  },
  {
   "cell_type": "code",
   "outputs": [],
   "source": [
    "square()              # TypeError: square() missing 2 required positional arguments: 'a' and 'b')\n",
    "square(2)             # TypeError: square() missing 1 required positional argument: 'b'\n",
    "square(2,3,4)         # TypeError: square() takes 2 positional arguments but 3 were given"
   ],
   "metadata": {
    "collapsed": false,
    "ExecuteTime": {
     "end_time": "2024-07-08T18:15:14.938719Z",
     "start_time": "2024-07-08T18:15:14.932499Z"
    }
   },
   "id": "105ca0cfb0b6629d",
   "execution_count": 29
  },
  {
   "cell_type": "code",
   "outputs": [],
   "source": [
    "def square(a: float = 1.0, b: int = 1.0) -> float:\n",
    "    return a**b"
   ],
   "metadata": {
    "collapsed": false,
    "ExecuteTime": {
     "end_time": "2024-07-08T18:17:24.309031Z",
     "start_time": "2024-07-08T18:17:24.290502Z"
    }
   },
   "id": "a893fa893d015db4",
   "execution_count": 30
  },
  {
   "cell_type": "code",
   "outputs": [
    {
     "data": {
      "text/plain": "2.0"
     },
     "execution_count": 32,
     "metadata": {},
     "output_type": "execute_result"
    }
   ],
   "source": [
    "square()            \n",
    "square(2)             "
   ],
   "metadata": {
    "collapsed": false,
    "ExecuteTime": {
     "end_time": "2024-07-08T18:17:58.545904Z",
     "start_time": "2024-07-08T18:17:58.534797Z"
    }
   },
   "id": "d1b261bd51e81fbd",
   "execution_count": 32
  },
  {
   "cell_type": "markdown",
   "source": [
    "Positional Argument: The order of parameters you defined in the function matter. For eg: square(2,3) = 8 and square(3,2) = 9. "
   ],
   "metadata": {
    "collapsed": false
   },
   "id": "3a301b2cdfa885b4"
  },
  {
   "cell_type": "code",
   "outputs": [
    {
     "name": "stdout",
     "output_type": "stream",
     "text": [
      "8\n",
      "9\n"
     ]
    }
   ],
   "source": [
    "print(square(2,3))\n",
    "print(square(3,2))"
   ],
   "metadata": {
    "collapsed": false,
    "ExecuteTime": {
     "end_time": "2024-07-08T18:24:28.365483Z",
     "start_time": "2024-07-08T18:24:28.351872Z"
    }
   },
   "id": "eaeee4b922403c50",
   "execution_count": 33
  },
  {
   "cell_type": "markdown",
   "source": [
    "Keyword argument: It is very difficult to remember order of all the parameters defined in the functions especially in the machine learning. So, to solve that problem we have keyword arguments.  "
   ],
   "metadata": {
    "collapsed": false
   },
   "id": "40c27c93586e6d5f"
  },
  {
   "cell_type": "code",
   "outputs": [
    {
     "data": {
      "text/plain": "8"
     },
     "execution_count": 34,
     "metadata": {},
     "output_type": "execute_result"
    }
   ],
   "source": [
    "square(b=3,a=2)"
   ],
   "metadata": {
    "collapsed": false,
    "ExecuteTime": {
     "end_time": "2024-07-08T18:27:10.850015Z",
     "start_time": "2024-07-08T18:27:10.842069Z"
    }
   },
   "id": "a4a02111292fcae9",
   "execution_count": 34
  },
  {
   "cell_type": "markdown",
   "source": [
    "*args and **kwargs\n",
    "\n",
    "*args = You can pass variable number of arguments in the function. --> It will store as the tuples in the memory.  "
   ],
   "metadata": {
    "collapsed": false
   },
   "id": "2e84e1e07ed7f546"
  },
  {
   "cell_type": "code",
   "outputs": [],
   "source": [
    "def prod(*num: float) -> float:\n",
    "    product = 1\n",
    "    for i in num:\n",
    "        product = product * i\n",
    "    print(num)                      # stored as a tuple. \n",
    "    return product"
   ],
   "metadata": {
    "collapsed": false,
    "ExecuteTime": {
     "end_time": "2024-07-08T18:40:11.600572Z",
     "start_time": "2024-07-08T18:40:11.594017Z"
    }
   },
   "id": "c217bb575d7582d8",
   "execution_count": 37
  },
  {
   "cell_type": "code",
   "outputs": [
    {
     "name": "stdout",
     "output_type": "stream",
     "text": [
      "(1, 2, 3, 4, 5, 6, 7, 8, 9)\n"
     ]
    },
    {
     "data": {
      "text/plain": "362880"
     },
     "execution_count": 38,
     "metadata": {},
     "output_type": "execute_result"
    }
   ],
   "source": [
    "prod(1,2,3,4,5,6,7,8,9)"
   ],
   "metadata": {
    "collapsed": false,
    "ExecuteTime": {
     "end_time": "2024-07-08T18:40:18.732066Z",
     "start_time": "2024-07-08T18:40:18.725014Z"
    }
   },
   "id": "fc3b39906a64d05",
   "execution_count": 38
  },
  {
   "cell_type": "markdown",
   "source": [
    "**kwargs = It contains key-value pairs like a dictionary in python."
   ],
   "metadata": {
    "collapsed": false
   },
   "id": "450633fbdfb867ed"
  },
  {
   "cell_type": "code",
   "outputs": [],
   "source": [
    "def coun_sta(**di: dict) -> dict: \n",
    "    for key, value in dic.items():\n",
    "        print(f'{key}: {value}')"
   ],
   "metadata": {
    "collapsed": false,
    "ExecuteTime": {
     "end_time": "2024-07-08T18:45:51.260778Z",
     "start_time": "2024-07-08T18:45:51.249561Z"
    }
   },
   "id": "52445d5bea2eb312",
   "execution_count": 39
  },
  {
   "cell_type": "code",
   "outputs": [
    {
     "name": "stdout",
     "output_type": "stream",
     "text": [
      "india: delhi\n",
      "srilanka: colombo\n",
      "usa: washington\n",
      "canada: toronto\n"
     ]
    }
   ],
   "source": [
    "coun_sta(india = 'delhi', srilanka = 'colombo', usa = 'washington', canada = 'toronto')"
   ],
   "metadata": {
    "collapsed": false,
    "ExecuteTime": {
     "end_time": "2024-07-08T18:48:10.234951Z",
     "start_time": "2024-07-08T18:48:10.227Z"
    }
   },
   "id": "9c7231e483a436d6",
   "execution_count": 41
  },
  {
   "cell_type": "markdown",
   "source": [
    "How functions store in memory? --> Check the notebook and see yourself --> https://pythontutor.com/visualize.html#mode=edit"
   ],
   "metadata": {
    "collapsed": false
   },
   "id": "3a560bdf837fbbad"
  },
  {
   "cell_type": "markdown",
   "source": [
    "W/O return statement. --> Function always has a default return value \"None\". "
   ],
   "metadata": {
    "collapsed": false
   },
   "id": "bc01920645b875e5"
  },
  {
   "cell_type": "code",
   "outputs": [],
   "source": [
    "def is_pos(num: float) -> float:\n",
    "    if num >= 0:\n",
    "        return 'Positive'\n",
    "    else: return \"Negative\""
   ],
   "metadata": {
    "collapsed": false,
    "ExecuteTime": {
     "end_time": "2024-07-08T19:07:11.805234Z",
     "start_time": "2024-07-08T19:07:11.792851Z"
    }
   },
   "id": "1789da8efeb21f3a",
   "execution_count": 46
  },
  {
   "cell_type": "code",
   "outputs": [
    {
     "name": "stdout",
     "output_type": "stream",
     "text": [
      "Positive\n"
     ]
    }
   ],
   "source": [
    "print(is_pos(5))"
   ],
   "metadata": {
    "collapsed": false,
    "ExecuteTime": {
     "end_time": "2024-07-08T19:07:13.265441Z",
     "start_time": "2024-07-08T19:07:13.261048Z"
    }
   },
   "id": "8a761f10ea3afbb6",
   "execution_count": 47
  },
  {
   "cell_type": "markdown",
   "source": [
    "If you are just using print and not the return then it will return positive and \"None\"."
   ],
   "metadata": {
    "collapsed": false
   },
   "id": "74fd2d3e507e606c"
  },
  {
   "cell_type": "code",
   "outputs": [
    {
     "name": "stdout",
     "output_type": "stream",
     "text": [
      "Positive\n",
      "None\n"
     ]
    }
   ],
   "source": [
    "def is_pos(num: float) -> float:\n",
    "    if num >= 0:\n",
    "        print('Positive')\n",
    "    else: print(\"Negative\")\n",
    "\n",
    "print(is_pos(5))"
   ],
   "metadata": {
    "collapsed": false,
    "ExecuteTime": {
     "end_time": "2024-07-08T19:07:22.300359Z",
     "start_time": "2024-07-08T19:07:22.294494Z"
    }
   },
   "id": "392665743d837d7a",
   "execution_count": 48
  },
  {
   "cell_type": "code",
   "outputs": [
    {
     "name": "stdout",
     "output_type": "stream",
     "text": [
      "None\n",
      "[1, 2, 3, 4, 5, 6, 7, 8, 9, 10]\n"
     ]
    }
   ],
   "source": [
    "lis = [1,2,3,4,5,6,7,8,9]\n",
    "print(lis.append(10))            # It returned \"None\". Because append attribute in the list doesn't have return statement in it. \n",
    "print(lis)"
   ],
   "metadata": {
    "collapsed": false,
    "ExecuteTime": {
     "end_time": "2024-07-08T19:08:59.483212Z",
     "start_time": "2024-07-08T19:08:59.467497Z"
    }
   },
   "id": "fb2dc831d51ae04",
   "execution_count": 49
  },
  {
   "cell_type": "markdown",
   "source": [
    "Variable scope --> Learn from the notes. "
   ],
   "metadata": {
    "collapsed": false
   },
   "id": "6f2f92258f393361"
  },
  {
   "cell_type": "markdown",
   "source": [
    "Nested functions. --> To hide some interesting code which you do not want to show anyone. \n",
    "\n",
    "--> You cannot call inside function directly to main program. "
   ],
   "metadata": {
    "collapsed": false
   },
   "id": "517cbbd9e6fde90"
  },
  {
   "cell_type": "code",
   "outputs": [],
   "source": [
    "def f():\n",
    "    def g():\n",
    "        print(\"This is inside g function\")\n",
    "    print(\"This is inside f function\")"
   ],
   "metadata": {
    "collapsed": false,
    "ExecuteTime": {
     "end_time": "2024-07-08T20:36:00.660190Z",
     "start_time": "2024-07-08T20:36:00.656116Z"
    }
   },
   "id": "d571a270f2bf0acf",
   "execution_count": 55
  },
  {
   "cell_type": "code",
   "outputs": [
    {
     "name": "stdout",
     "output_type": "stream",
     "text": [
      "This is inside f function\n"
     ]
    }
   ],
   "source": [
    "f()\n",
    "g()  #  NameError: name 'g' is not defined"
   ],
   "metadata": {
    "collapsed": false,
    "ExecuteTime": {
     "end_time": "2024-07-08T20:37:05.776151Z",
     "start_time": "2024-07-08T20:37:05.770156Z"
    }
   },
   "id": "1f612e96716b78e8",
   "execution_count": 57
  },
  {
   "cell_type": "markdown",
   "source": [
    "Here for g(), f() is the main program. So you can use f() variables in the g(). "
   ],
   "metadata": {
    "collapsed": false
   },
   "id": "f98f28a0fd3ba138"
  },
  {
   "cell_type": "code",
   "outputs": [],
   "source": [
    "def f():\n",
    "    def g():\n",
    "        print(\"This is inside g function\")\n",
    "    g()\n",
    "    print(\"This is inside f function\")"
   ],
   "metadata": {
    "collapsed": false,
    "ExecuteTime": {
     "end_time": "2024-07-08T20:37:11.955076Z",
     "start_time": "2024-07-08T20:37:11.951534Z"
    }
   },
   "id": "c1581276fd0549cf",
   "execution_count": 58
  },
  {
   "cell_type": "code",
   "outputs": [
    {
     "name": "stdout",
     "output_type": "stream",
     "text": [
      "This is inside g function\n",
      "This is inside f function\n"
     ]
    }
   ],
   "source": [
    "f()"
   ],
   "metadata": {
    "collapsed": false,
    "ExecuteTime": {
     "end_time": "2024-07-08T20:37:15.076022Z",
     "start_time": "2024-07-08T20:37:15.071726Z"
    }
   },
   "id": "f1fcb9a333cee4a7",
   "execution_count": 59
  },
  {
   "cell_type": "code",
   "outputs": [],
   "source": [
    "def f():\n",
    "    def g():\n",
    "        print(\"This is inside g function\")\n",
    "        f()                                  # --> It is an infinite loop example of \"This is inside g function\". \n",
    "    g()\n",
    "    print(\"This is inside f function\")\n",
    "\n",
    "f()"
   ],
   "metadata": {
    "collapsed": false
   },
   "id": "bb319635ddff45f5"
  },
  {
   "cell_type": "markdown",
   "source": [
    "Some examples of nested functions. "
   ],
   "metadata": {
    "collapsed": false
   },
   "id": "ad461da52623debb"
  },
  {
   "cell_type": "code",
   "outputs": [
    {
     "name": "stdout",
     "output_type": "stream",
     "text": [
      "in g(x): x = 4\n"
     ]
    }
   ],
   "source": [
    "def g(x):\n",
    "    def h():\n",
    "        x = 'abc'                   # Here we cannot use h() x = 'abc' into g(x). --> This is local variable.  \n",
    "    x = x + 1\n",
    "    print('in g(x): x =', x)\n",
    "    h()\n",
    "    return x\n",
    "\n",
    "x = 3\n",
    "z = g(x)"
   ],
   "metadata": {
    "collapsed": false,
    "ExecuteTime": {
     "end_time": "2024-07-08T23:47:32.156440Z",
     "start_time": "2024-07-08T23:47:32.137526Z"
    }
   },
   "id": "74016f8c02e637b8",
   "execution_count": 60
  },
  {
   "cell_type": "code",
   "outputs": [
    {
     "name": "stdout",
     "output_type": "stream",
     "text": [
      "3\n",
      "4\n"
     ]
    }
   ],
   "source": [
    "print(x)\n",
    "print(z)"
   ],
   "metadata": {
    "collapsed": false,
    "ExecuteTime": {
     "end_time": "2024-07-08T23:47:34.705382Z",
     "start_time": "2024-07-08T23:47:34.700703Z"
    }
   },
   "id": "4dad1c33fc408e97",
   "execution_count": 61
  },
  {
   "cell_type": "code",
   "outputs": [
    {
     "name": "stdout",
     "output_type": "stream",
     "text": [
      "in g(x): x =  4\n",
      "in h(x): x =  5\n",
      "in main program scope: x =  3\n",
      "in main program scope: z =  4\n"
     ]
    }
   ],
   "source": [
    "def g(x):\n",
    "    def h(x):\n",
    "        x = x+1\n",
    "        print(\"in h(x): x = \", x)\n",
    "    x = x + 1\n",
    "    print('in g(x): x = ', x)\n",
    "    h(x)\n",
    "    return x\n",
    "\n",
    "x = 3\n",
    "z = g(x)\n",
    "print('in main program scope: x = ', x)\n",
    "print('in main program scope: z = ', z)"
   ],
   "metadata": {
    "collapsed": false,
    "ExecuteTime": {
     "end_time": "2024-07-08T23:52:06.081437Z",
     "start_time": "2024-07-08T23:52:06.073001Z"
    }
   },
   "id": "556d33e217c99028",
   "execution_count": 62
  },
  {
   "cell_type": "markdown",
   "source": [
    "Functions are first class citizens. --> In a given programming language design, a first-class citizen is an entity which supports all the operations generally available to other entities. These operations typically include being passed as an argument, returned from a function, and assigned to a variable.\n",
    "--> For e.g, list, int, tuples etc. --> So functions are also like them. So, always think like if integer can do it than function can also do it. "
   ],
   "metadata": {
    "collapsed": false
   },
   "id": "a44813920bfc1e8c"
  },
  {
   "cell_type": "markdown",
   "source": [
    "type and id of function"
   ],
   "metadata": {
    "collapsed": false
   },
   "id": "16b77d48751f48b4"
  },
  {
   "cell_type": "code",
   "outputs": [],
   "source": [
    "def sq(num: int) -> int:\n",
    "    return num**2\n",
    "\n",
    "a = 2"
   ],
   "metadata": {
    "collapsed": false,
    "ExecuteTime": {
     "end_time": "2024-07-09T00:00:25.287040Z",
     "start_time": "2024-07-09T00:00:25.274339Z"
    }
   },
   "id": "60eb5b7933191112",
   "execution_count": 63
  },
  {
   "cell_type": "code",
   "outputs": [
    {
     "name": "stdout",
     "output_type": "stream",
     "text": [
      "type and id of the integer is <class 'int'>, 4310985040\n",
      "Similar as integer the type and id of the function is <class 'function'>, 4310985040\n"
     ]
    }
   ],
   "source": [
    "print(f\"type and id of the integer is {type(a)}, {id(a)}\")\n",
    "print(f\"Similar as integer the type and id of the function is {type(sq)}, {id(a)}\")"
   ],
   "metadata": {
    "collapsed": false,
    "ExecuteTime": {
     "end_time": "2024-07-09T00:02:28.967037Z",
     "start_time": "2024-07-09T00:02:28.959897Z"
    }
   },
   "id": "43482d3be4466b22",
   "execution_count": 64
  },
  {
   "cell_type": "markdown",
   "source": [
    "reassign "
   ],
   "metadata": {
    "collapsed": false
   },
   "id": "c444d829070dcfda"
  },
  {
   "cell_type": "code",
   "outputs": [
    {
     "name": "stdout",
     "output_type": "stream",
     "text": [
      "4\n",
      "id of the function is 4367836064\n",
      "9\n"
     ]
    }
   ],
   "source": [
    "# reassign of integer\n",
    "a = 4\n",
    "b = a\n",
    "print(f\"{b}\")\n",
    "\n",
    "x = sq      # Similar as integer you can assign the function.  \n",
    "print(f\"id of the function is {id(x)}\")\n",
    "print(x(3))"
   ],
   "metadata": {
    "collapsed": false,
    "ExecuteTime": {
     "end_time": "2024-07-09T00:07:25.759697Z",
     "start_time": "2024-07-09T00:07:25.755153Z"
    }
   },
   "id": "3d3e135d87d6b95b",
   "execution_count": 66
  },
  {
   "cell_type": "code",
   "outputs": [
    {
     "name": "stdout",
     "output_type": "stream",
     "text": [
      "[1, 2, 3, 4, 5]\n",
      "[1, 2, 3, 4, <function sq at 0x10457e3a0>]\n",
      "9\n"
     ]
    }
   ],
   "source": [
    "# Storing a function. \n",
    "a = 5\n",
    "L = [1,2,3,4,a]\n",
    "print(L)\n",
    "\n",
    "L_f = [1,2,3,4,sq]              # Because it worked with the integer it will also work with function\n",
    "print(L_f)\n",
    "print(L_f[-1](3))"
   ],
   "metadata": {
    "collapsed": false,
    "ExecuteTime": {
     "end_time": "2024-07-09T00:12:52.469634Z",
     "start_time": "2024-07-09T00:12:52.461548Z"
    }
   },
   "id": "89216247b51ecd1d",
   "execution_count": 68
  },
  {
   "cell_type": "markdown",
   "source": [
    "# Returning a function from other function. "
   ],
   "metadata": {
    "collapsed": false
   },
   "id": "2e893cfb363008"
  },
  {
   "cell_type": "code",
   "outputs": [
    {
     "name": "stdout",
     "output_type": "stream",
     "text": [
      "7\n"
     ]
    }
   ],
   "source": [
    "# Returning a function\n",
    "def f():\n",
    "    def g(a, b):\n",
    "        return a+b\n",
    "    return g                  # Here f() is returning another function g\n",
    "    \n",
    "val = f()(3,4)\n",
    "print(val)"
   ],
   "metadata": {
    "collapsed": false,
    "ExecuteTime": {
     "end_time": "2024-07-09T00:18:15.804314Z",
     "start_time": "2024-07-09T00:18:15.796422Z"
    }
   },
   "id": "4fedecd3647ed873",
   "execution_count": 70
  },
  {
   "cell_type": "markdown",
   "source": [
    "# function as argument"
   ],
   "metadata": {
    "collapsed": false
   },
   "id": "86df3f0b6cd6a57b"
  },
  {
   "cell_type": "code",
   "outputs": [
    {
     "name": "stdout",
     "output_type": "stream",
     "text": [
      "inside func_c\n",
      "inside func_a\n",
      "None\n"
     ]
    }
   ],
   "source": [
    "def func_a():\n",
    "    print('inside func_a')\n",
    "\n",
    "def func_b(z):               # Sending one function as an argument of another function. \n",
    "    print('inside func_c')\n",
    "    return z()\n",
    "\n",
    "print(func_b(func_a))"
   ],
   "metadata": {
    "collapsed": false,
    "ExecuteTime": {
     "end_time": "2024-07-09T00:25:26.061959Z",
     "start_time": "2024-07-09T00:25:26.049878Z"
    }
   },
   "id": "c9d4b38b7de55af7",
   "execution_count": 71
  },
  {
   "cell_type": "markdown",
   "source": [
    "Benefits of using a Function\n",
    "-> Code Modularity\n",
    "-> Code Readibility\n",
    "-> Code Reusability\n",
    "\n",
    "Lambda Function => lambda a,b: a + b\n",
    "\n",
    "--> A lambda function is a small anonymous function. --> No name. \n",
    "--> A lambda function can take any number of arguments, but can only have one expression."
   ],
   "metadata": {
    "collapsed": false
   },
   "id": "db0295231d0a8700"
  },
  {
   "cell_type": "code",
   "outputs": [
    {
     "name": "stdout",
     "output_type": "stream",
     "text": [
      "9\n",
      "9\n"
     ]
    }
   ],
   "source": [
    "sq1 = lambda a:a**2\n",
    "print(sq1(3))\n",
    "add1 = lambda a,b: a+b\n",
    "print(add1(4,5))"
   ],
   "metadata": {
    "collapsed": false,
    "ExecuteTime": {
     "end_time": "2024-07-09T00:40:34.204643Z",
     "start_time": "2024-07-09T00:40:34.197466Z"
    }
   },
   "id": "b16f18b242be3ed",
   "execution_count": 73
  },
  {
   "cell_type": "code",
   "outputs": [
    {
     "name": "stdout",
     "output_type": "stream",
     "text": [
      "False\n",
      "even\n"
     ]
    }
   ],
   "source": [
    "chk_a = lambda st: 'a' in st\n",
    "print(chk_a('nice'))\n",
    "\n",
    "chk_even = lambda num: 'even' if num % 2 == 0 else \"odd\"    # lambda function with if-else statement.\n",
    "print(chk_even(76))"
   ],
   "metadata": {
    "collapsed": false,
    "ExecuteTime": {
     "end_time": "2024-07-09T00:48:49.017102Z",
     "start_time": "2024-07-09T00:48:49.008093Z"
    }
   },
   "id": "ce350eebd52b3f69",
   "execution_count": 75
  },
  {
   "cell_type": "markdown",
   "source": [
    "Diff between lambda vs Normal Function\n",
    "\n",
    "--> No name\n",
    "--> lambda has no return value(infact,returns a function)\n",
    "--> lambda is written in 1 line\n",
    "--> not reusable\n",
    "\n",
    "# Then why use lambda functions?\n",
    "# They are used with HOF (Higher order functions)"
   ],
   "metadata": {
    "collapsed": false
   },
   "id": "c0ce0340c6b5eae2"
  },
  {
   "cell_type": "markdown",
   "source": [
    "Higher order functions --> A function which returns another function or a function which receives a function as an argument. "
   ],
   "metadata": {
    "collapsed": false
   },
   "id": "25778db5e7f0eba5"
  },
  {
   "cell_type": "code",
   "outputs": [
    {
     "name": "stdout",
     "output_type": "stream",
     "text": [
      "[1, 4, 9, 16, 25]\n",
      "[1, 8, 27, 64, 125]\n"
     ]
    }
   ],
   "source": [
    "def square(num: int) -> int:\n",
    "    return num**2\n",
    "\n",
    "# HOF\n",
    "def transform(fun, lis: list) -> list:\n",
    "    output = []\n",
    "    for item in lis:\n",
    "        output.append(fun(item))\n",
    "    return output\n",
    "\n",
    "lis = [1,2,3,4,5]\n",
    "print(transform(square, lis))\n",
    "\n",
    "print(transform(lambda num: num**3, lis))"
   ],
   "metadata": {
    "collapsed": false,
    "ExecuteTime": {
     "end_time": "2024-07-09T01:05:32.568287Z",
     "start_time": "2024-07-09T01:05:32.559514Z"
    }
   },
   "id": "4cc9b32e7038065c",
   "execution_count": 86
  },
  {
   "cell_type": "code",
   "outputs": [
    {
     "name": "stdout",
     "output_type": "stream",
     "text": [
      "[1, 8, 27, 64, 125]\n"
     ]
    }
   ],
   "source": [
    "# Using lambda --> So if in above problem you want to do cube instead of square then you will have to make another function of cube. So instead of making function again and again let's make a lambda function. \n",
    "\n",
    "def transform(lis: list) -> list:\n",
    "    output = []\n",
    "    for item in lis:\n",
    "        lam = lambda item : item**3\n",
    "        output.append(lam(item))\n",
    "    return output\n",
    "\n",
    "lis = [1,2,3,4,5]\n",
    "print(transform(lis))"
   ],
   "metadata": {
    "collapsed": false,
    "ExecuteTime": {
     "end_time": "2024-07-09T01:03:43.487674Z",
     "start_time": "2024-07-09T01:03:43.482662Z"
    }
   },
   "id": "5cedc2a3ad753172",
   "execution_count": 85
  },
  {
   "cell_type": "markdown",
   "source": [
    "HOF in python: We will use lambda function in them.\n",
    "\n",
    "--> map()\n",
    "--> reduce()\n",
    "--> filter()"
   ],
   "metadata": {
    "collapsed": false
   },
   "id": "1ae4681f624410d0"
  },
  {
   "cell_type": "code",
   "outputs": [
    {
     "name": "stdout",
     "output_type": "stream",
     "text": [
      "<map object at 0x10448e3d0>\n",
      "[1, 4, 9, 16, 25]\n"
     ]
    }
   ],
   "source": [
    "# map()\n",
    "\n",
    "# square the items of a list\n",
    "a = map(lambda z:z**2, [1,2,3,4,5])\n",
    "print(a)\n",
    "print(list(a))                 # Always use list(map())"
   ],
   "metadata": {
    "collapsed": false,
    "ExecuteTime": {
     "end_time": "2024-07-09T01:14:26.581878Z",
     "start_time": "2024-07-09T01:14:26.570856Z"
    }
   },
   "id": "469f28a8fbb0732c",
   "execution_count": 91
  },
  {
   "cell_type": "code",
   "outputs": [
    {
     "data": {
      "text/plain": "['odd', 'even', 'odd', 'even', 'odd', 'even']"
     },
     "execution_count": 92,
     "metadata": {},
     "output_type": "execute_result"
    }
   ],
   "source": [
    "# odd/even labelling of list items\n",
    "L = [1,2,3,4,5,6]\n",
    "list(map(lambda num: \"even\" if num % 2 == 0 else \"odd\", L))"
   ],
   "metadata": {
    "collapsed": false,
    "ExecuteTime": {
     "end_time": "2024-07-09T01:14:28.903890Z",
     "start_time": "2024-07-09T01:14:28.897438Z"
    }
   },
   "id": "ba90f81e4a81b751",
   "execution_count": 92
  },
  {
   "cell_type": "code",
   "outputs": [
    {
     "data": {
      "text/plain": "['Rahul', 'Nitish', 'Ankita']"
     },
     "execution_count": 93,
     "metadata": {},
     "output_type": "execute_result"
    }
   ],
   "source": [
    "# fetch names from a list of dict\n",
    "users = [\n",
    "    {\n",
    "        'name':'Rahul',\n",
    "        'age':45,\n",
    "        'gender':'male'\n",
    "    },\n",
    "    {\n",
    "        'name':'Nitish',\n",
    "        'age':33,\n",
    "        'gender':'male'\n",
    "    },\n",
    "    {\n",
    "        'name':'Ankita',\n",
    "        'age':50,\n",
    "        'gender':'female'\n",
    "    }\n",
    "]\n",
    "\n",
    "list(map(lambda users: users['name'], users))"
   ],
   "metadata": {
    "collapsed": false,
    "ExecuteTime": {
     "end_time": "2024-07-09T01:15:53.204564Z",
     "start_time": "2024-07-09T01:15:53.196321Z"
    }
   },
   "id": "2505670b792baf9d",
   "execution_count": 93
  },
  {
   "cell_type": "markdown",
   "source": [
    "Filter --> Only returns the True statement elements"
   ],
   "metadata": {
    "collapsed": false
   },
   "id": "c7a31592a912bab8"
  },
  {
   "cell_type": "code",
   "outputs": [
    {
     "name": "stdout",
     "output_type": "stream",
     "text": [
      "[6, 7, 8, 9]\n",
      "[False, False, False, False, False, True, True, True, True]\n"
     ]
    }
   ],
   "source": [
    "# numbers greater than 5\n",
    "\n",
    "L = [1,2,3,4,5,6,7,8,9]\n",
    "print(list(filter(lambda x:x>5,L)))\n",
    "print(list(map(lambda x:x>5, L)))              # filter keeps only the true one. "
   ],
   "metadata": {
    "collapsed": false,
    "ExecuteTime": {
     "end_time": "2024-07-09T01:19:57.936405Z",
     "start_time": "2024-07-09T01:19:57.931008Z"
    }
   },
   "id": "3213a42f07ecb4e6",
   "execution_count": 95
  },
  {
   "cell_type": "code",
   "outputs": [
    {
     "name": "stdout",
     "output_type": "stream",
     "text": [
      "['apple']\n",
      "[True, False, False]\n"
     ]
    }
   ],
   "source": [
    "# fetch fruits starting with 'a'\n",
    "\n",
    "fruits = ['apple','guava','cherry']\n",
    "print(list(filter(lambda fruit: fruit[0] == 'a', fruits)))\n",
    "print(list(map(lambda fruit:fruit[0] == 'a', fruits)))"
   ],
   "metadata": {
    "collapsed": false,
    "ExecuteTime": {
     "end_time": "2024-07-09T01:24:54.279517Z",
     "start_time": "2024-07-09T01:24:54.272132Z"
    }
   },
   "id": "827b6d370f2f091e",
   "execution_count": 97
  },
  {
   "cell_type": "markdown",
   "source": [
    "Reduce"
   ],
   "metadata": {
    "collapsed": false
   },
   "id": "95d90e9e50f42255"
  },
  {
   "cell_type": "code",
   "outputs": [
    {
     "name": "stdout",
     "output_type": "stream",
     "text": [
      "21\n",
      "-8\n"
     ]
    }
   ],
   "source": [
    "import functools\n",
    "\n",
    "# sum of all item\n",
    "print(functools.reduce(lambda x,y:x+y, [1,2,3,4,5,6]))\n",
    "\n",
    "# find min\n",
    "print(functools.reduce(lambda x,y: x if x<y else y, [-8,1,2,3,4,5]))"
   ],
   "metadata": {
    "collapsed": false,
    "ExecuteTime": {
     "end_time": "2024-07-09T01:28:41.771120Z",
     "start_time": "2024-07-09T01:28:41.763645Z"
    }
   },
   "id": "445b5cd1803a38f2",
   "execution_count": 100
  }
 ],
 "metadata": {
  "kernelspec": {
   "display_name": "Python 3",
   "language": "python",
   "name": "python3"
  },
  "language_info": {
   "codemirror_mode": {
    "name": "ipython",
    "version": 2
   },
   "file_extension": ".py",
   "mimetype": "text/x-python",
   "name": "python",
   "nbconvert_exporter": "python",
   "pygments_lexer": "ipython2",
   "version": "2.7.6"
  }
 },
 "nbformat": 4,
 "nbformat_minor": 5
}
