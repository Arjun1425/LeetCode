{
 "cells": [
  {
   "cell_type": "markdown",
   "source": [
    "1. Two Sum"
   ],
   "metadata": {
    "collapsed": false
   },
   "id": "8bbe2cf4434a3a71"
  },
  {
   "cell_type": "code",
   "outputs": [
    {
     "name": "stdout",
     "output_type": "stream",
     "text": [
      "[(11, 15)] \n",
      "Time complexity: O(n^2)\n"
     ]
    }
   ],
   "source": [
    "class Solution:\n",
    "    def twoSum(self, nums: list, target: int) -> list:\n",
    "       return [(ele, ele_2) for i, ele in enumerate(nums) for ele_2 in nums[i+1:] if ele + ele_2 == target]\n",
    "\n",
    "nums = [2,7,11,15]\n",
    "target = 26\n",
    "print(Solution().twoSum(nums, target), '\\n'\"Time complexity: O(n^2)\") "
   ],
   "metadata": {
    "collapsed": false,
    "ExecuteTime": {
     "end_time": "2024-04-10T11:53:34.028965Z",
     "start_time": "2024-04-10T11:53:34.022825Z"
    }
   },
   "id": "77e392d1f44ede09",
   "execution_count": 45
  },
  {
   "cell_type": "markdown",
   "source": [
    "Here are some reasons why you should not use enumerate in Python:\n",
    "Enumerate is not necessary in most cases.: You can usually accomplish the same task with a for loop and a range() function.\n",
    "Enumerate can be slower than a for loop.: This is because enumerate creates a new list of tuples, which takes time and memory.\n",
    "Enumerate can be less readable than a for loop.: This is because enumerate adds an extra layer of complexity to your code."
   ],
   "metadata": {
    "collapsed": false
   },
   "id": "c8c00f0eb3c2be1f"
  },
  {
   "cell_type": "code",
   "outputs": [
    {
     "name": "stdout",
     "output_type": "stream",
     "text": [
      "[2, 4] \n",
      "Time complexity: O(n)\n"
     ]
    }
   ],
   "source": [
    "class Solution:\n",
    "    def twoSum(self, nums: list, target: int) -> list:\n",
    "        hashtable = {}\n",
    "        for i, ele in enumerate(nums):\n",
    "            hashtable[ele] = i\n",
    "        for i, ele in enumerate(nums):\n",
    "            ele_2 = target - ele\n",
    "            if ele_2 in hashtable and hashtable[ele_2] != i:\n",
    "                return [ele, ele_2]\n",
    "            \n",
    "nums = [3,2,4]\n",
    "target = 6\n",
    "print(Solution().twoSum(nums, target), '\\n'\"Time complexity: O(n)\") "
   ],
   "metadata": {
    "collapsed": false,
    "ExecuteTime": {
     "end_time": "2024-04-10T12:24:40.532161Z",
     "start_time": "2024-04-10T12:24:40.525473Z"
    }
   },
   "id": "e589e26a199f75a4",
   "execution_count": 68
  },
  {
   "cell_type": "markdown",
   "source": [
    "By using list comprehension, while storing two elements, like above I will not get the list in return. I may get list of list or tuples of list.  "
   ],
   "metadata": {
    "collapsed": false
   },
   "id": "592a3a640e4e6a9"
  },
  {
   "cell_type": "code",
   "outputs": [
    {
     "name": "stdout",
     "output_type": "stream",
     "text": [
      "[3, 3] \n",
      "Time complexity: O(n)\n"
     ]
    }
   ],
   "source": [
    "class Solution:\n",
    "    def twoSum(self, nums: list, target: int) -> list:\n",
    "        hashtable = {}\n",
    "        for i in range(len(nums)):\n",
    "            hashtable[nums[i]] = i\n",
    "        for i in range(len(nums)):\n",
    "            ele_2 = target - nums[i]\n",
    "            if ele_2 in hashtable and hashtable[ele_2] != i:\n",
    "                return [nums[i], ele_2]\n",
    "            \n",
    "nums = [3,3]\n",
    "target = 6\n",
    "print(Solution().twoSum(nums, target), '\\n'\"Time complexity: O(n)\") "
   ],
   "metadata": {
    "collapsed": false,
    "ExecuteTime": {
     "end_time": "2024-04-10T12:32:08.794689Z",
     "start_time": "2024-04-10T12:32:08.787889Z"
    }
   },
   "id": "e54fda495ddfb9cf",
   "execution_count": 74
  }
 ],
 "metadata": {
  "kernelspec": {
   "display_name": "Python 3",
   "language": "python",
   "name": "python3"
  },
  "language_info": {
   "codemirror_mode": {
    "name": "ipython",
    "version": 2
   },
   "file_extension": ".py",
   "mimetype": "text/x-python",
   "name": "python",
   "nbconvert_exporter": "python",
   "pygments_lexer": "ipython2",
   "version": "2.7.6"
  }
 },
 "nbformat": 4,
 "nbformat_minor": 5
}
