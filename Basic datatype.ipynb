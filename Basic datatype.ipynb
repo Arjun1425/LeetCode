{
 "cells": [
  {
   "cell_type": "markdown",
   "source": [
    "Here I will compare array, list, tuples, strings, and dictionary datatypes. I will make 8 sections for understanding these datatypes.  "
   ],
   "metadata": {
    "collapsed": false
   },
   "id": "379b214ac750cf9f"
  },
  {
   "cell_type": "code",
   "outputs": [
    {
     "name": "stdout",
     "output_type": "stream",
     "text": [
      "2.0.0rc1\n"
     ]
    }
   ],
   "source": [
    "import numpy as np\n",
    "print(np.__version__)"
   ],
   "metadata": {
    "collapsed": true,
    "ExecuteTime": {
     "end_time": "2024-05-15T12:59:31.535102Z",
     "start_time": "2024-05-15T12:59:31.451487Z"
    }
   },
   "id": "initial_id",
   "execution_count": 1
  },
  {
   "cell_type": "markdown",
   "source": [
    "Section 1: How to create data types: "
   ],
   "metadata": {
    "collapsed": false
   },
   "id": "b0f613666536050"
  },
  {
   "cell_type": "code",
   "outputs": [],
   "source": [
    "# Array\n",
    "arr1: np.ndarray = np.array([[[1,2,3], [4,5,6]],[[7,8,9], [10,11,12]]], dtype=float)  # --> Using datatype\n",
    "arr2: np.ndarray = np.ones((2,2,3), dtype=int)                                        # --> Using function\n",
    "\n",
    "# List\n",
    "lis1: list = [[1,2], 3, 'a', '@']              # --> Using []\n",
    "lis2: list = list('abc')                       # --> ['a', 'b', 'c']  This is mostly used in conversion of one data type to another\n",
    "\n",
    "# Dictionary\n",
    "dic1: dict = {'a': [1,3], 'b': (2,3), 'c': {'a': 1, 'b': 2}, 'd' : np.arange(0,5), 'e': 5}  # --> Using {}\n",
    "dic2: dict = dict(one = 'uno', two = 'dos', three = 'tres', a = 1, b = np.arange(0,5))          # --> Using datatype\n",
    "dic3: dict = dict([('one', 'uno'), ('two', 'dos')])                                         # --> Using list of tuples\n",
    "\n",
    "# Tuples\n",
    "tup1: tuple = ('a', np.arange(5), [1,2,3], dict(a=1, b=2, c=3, d=4, e=5))   # --> Using ()\n",
    "tup2: tuple = tuple('abcde')                                                # --> ('a', 'b', 'c', 'd', 'e')\n",
    "\n",
    "# Strings\n",
    "str1: str = f'abcde {2+5}, (1,2,3), [1,2,3]'     # --> Using '' and f-string\n",
    "str2: str = str('abcde {2+5}, (1,2,3)')          # --> Using datatype"
   ],
   "metadata": {
    "collapsed": false,
    "ExecuteTime": {
     "end_time": "2024-05-15T13:35:19.437334Z",
     "start_time": "2024-05-15T13:35:19.427349Z"
    }
   },
   "id": "b9a416273a975d9b",
   "execution_count": 41
  },
  {
   "cell_type": "markdown",
   "source": [
    "Section 2: Insertion in the datatypes:"
   ],
   "metadata": {
    "collapsed": false
   },
   "id": "cb44390230b5cf2e"
  },
  {
   "cell_type": "code",
   "outputs": [],
   "source": [
    "# Array\n",
    "arr3: np.ndarray = np.append(arr1, [[[1,2,3]], [[4,5,6]]], axis=1)   # --> Using append, but it adds only at last position. axis = 0,1,2.\n",
    "arr4: np.ndarray = np.insert(arr1, 1, [[1,2,3], [7,8,9]], axis=1)    # --> Using insert, here we have choice where to add. --> There is no change in arr1 unlike list.\n",
    "arr5: np.ndarray = np.concat((arr1, [[[1,2,3]], [[4,5,6]]]), axis=1) # --> Using concat, here it will add at the end and arrays should have the same dimensions. \n",
    "\n",
    "# List\n",
    "lis1.append('#')             # --> return the lis1 as appended new element. lis3 = lis1.append('#') --> lis3 = None\n",
    "lis1.insert(1, '#')          # --> return lis1 with new element. And also lis3 = lis2.insert(1, '#') --> lis3 = None\n",
    "lis2.extend(dic1)            # --> lis(iterables): iterables = set, list, dictionary, tuples, strings. \n",
    "\n",
    "# Dictionary\n",
    "dic1[7] = '$'                                                          # --> Using indexing. It adds at the end of the dictionary. \n",
    "dic1.update([('f', np.arange(2)), ('g', dict(h = 'i'))], one = 'uno')  # --> Using update method. \n",
    "dic2 |= dic1                                                           # --> Merging dictionary. \n",
    "\n",
    "# tuple (immutable)\n",
    "tup1 += tup2                # --> Using '+' you can only concatenate tuple to tuple not list or anything\n",
    "# --> By converting tuple into the list and use list methods. And again converting list into the tuples. \n",
    "\n",
    "# string (immutable)\n",
    "str1 += str2                # --> Similar as tuples"
   ],
   "metadata": {
    "collapsed": false,
    "ExecuteTime": {
     "end_time": "2024-05-15T13:35:45.132096Z",
     "start_time": "2024-05-15T13:35:45.123733Z"
    }
   },
   "id": "e665237f106446c6",
   "execution_count": 44
  },
  {
   "cell_type": "markdown",
   "source": [
    "Sections 3: Deleting the elements"
   ],
   "metadata": {
    "collapsed": false
   },
   "id": "db6a0779c7118ee6"
  },
  {
   "cell_type": "code",
   "outputs": [],
   "source": [
    "# Array \n",
    "arr6: np.ndarray = np.delete(arr2, 1, axis=1)       # --> It is similar like insert method, but it deletes things. \n",
    "\n",
    "# List\n",
    "lis1.remove('#')                                    # --> Delete using element name. \n",
    "lis1.pop(1)                                         # --> Delete using index.\n",
    "del lis1[0]                                         # --> Delete using index. \n",
    "\n",
    "# Dictionary\n",
    "dic1.pop('d')                                       # --> Delete using element name.\n",
    "del dic1[7]                                         # --> Delete using element name.\n",
    "dic1.popitem()                                      # --> Delete the last element.\n",
    "\n",
    "# Tuples\n",
    "tup3: tuple = tuple()\n",
    "for ele in tup2:                                    # --> By making new tuple and using for loop to append the element on new tuple.\n",
    "    if ele != 'b': tup3 += (ele,)\n",
    "# --> By converting tuple into the list and use list methods. And again converting list into the tuples.\n",
    "\n",
    "# Strings\n",
    "# --> By making new string and using for loop to append the element on new string.\n",
    "# --> By converting tuple into the list and use list methods. And again converting list into the tuples."
   ],
   "metadata": {
    "collapsed": false,
    "ExecuteTime": {
     "end_time": "2024-05-15T13:35:47.824016Z",
     "start_time": "2024-05-15T13:35:47.818274Z"
    }
   },
   "id": "f7707a9b42e7619f",
   "execution_count": 45
  },
  {
   "cell_type": "markdown",
   "source": [
    "Section 4: Search for an element (use 'in' operator). The 'in' operator does a linear search."
   ],
   "metadata": {
    "collapsed": false
   },
   "id": "146cd7e744e083fc"
  },
  {
   "cell_type": "code",
   "outputs": [
    {
     "name": "stdout",
     "output_type": "stream",
     "text": [
      "Yes in the dictionary\n"
     ]
    }
   ],
   "source": [
    "# Array, list, dictionary, tuple, and string.  \n",
    "if 13 in arr1: print(f'Yes in the array')                   # Using 'in' operator. \n",
    "if 'e' in lis1: print(f'Yes in the list')\n",
    "if 'e' in dic1: print(f'Yes in the dictionary')             # Only search for keys elements."
   ],
   "metadata": {
    "collapsed": false,
    "ExecuteTime": {
     "end_time": "2024-05-15T12:59:45.108522Z",
     "start_time": "2024-05-15T12:59:45.101125Z"
    }
   },
   "id": "60a78ca9c3e3e724",
   "execution_count": 5
  },
  {
   "cell_type": "markdown",
   "source": [
    "Section 5: Accessing elements based on index (slice)."
   ],
   "metadata": {
    "collapsed": false
   },
   "id": "fbecb237f402c11e"
  },
  {
   "cell_type": "code",
   "outputs": [],
   "source": [
    "# Array\n",
    "num1: np.ndarray = arr1[:,0:2,2]                 # [frames, row, column] in 3D array. It returns the numpy.ndarray and not the float or list. \n",
    "\n",
    "# List, tuple, and string\n",
    "num2: list = lis2[:5:2]                          # [start: end(not count): step]\n",
    "num5: tuple = tup1[0:2]\n",
    "\n",
    "# Dictionary\n",
    "num3: dict = dic1['c']                           # You cannot use indexing directly in dictionary. You will have to use element/Key name. \n",
    "num4: dict = list(dic1.items())[2][1]['a']       # Convert the dictionary into the list, You will get list of tuples. Then you can use indexing. "
   ],
   "metadata": {
    "collapsed": false,
    "ExecuteTime": {
     "end_time": "2024-05-15T13:35:50.569475Z",
     "start_time": "2024-05-15T13:35:50.564186Z"
    }
   },
   "id": "54696bab8ee2973c",
   "execution_count": 46
  },
  {
   "cell_type": "markdown",
   "source": [
    "Section 6: Traversal through datatypes (for loop in dic)"
   ],
   "metadata": {
    "collapsed": false
   },
   "id": "bd722ee1d5ee98bd"
  },
  {
   "cell_type": "code",
   "outputs": [
    {
     "name": "stdout",
     "output_type": "stream",
     "text": [
      "a: [1, 3]\n",
      "b: (2, 3)\n",
      "c: {'a': 1, 'b': 2}\n",
      "e: 5\n",
      "f: [0 1]\n",
      "g: {'h': 'i'}\n"
     ]
    }
   ],
   "source": [
    "# Array, list, dictionary, tuple, and string. \n",
    "for key in dic1:                                 # Using 'in' operator. \n",
    "    print(f'{key}: {dic1[key]}')"
   ],
   "metadata": {
    "collapsed": false,
    "ExecuteTime": {
     "end_time": "2024-05-15T12:59:51.325559Z",
     "start_time": "2024-05-15T12:59:51.317992Z"
    }
   },
   "id": "ed0b3dca8871a2",
   "execution_count": 7
  },
  {
   "cell_type": "markdown",
   "source": [
    "Section 7: methods for datatypes."
   ],
   "metadata": {
    "collapsed": false
   },
   "id": "faae6dd76aac2b02"
  },
  {
   "cell_type": "code",
   "outputs": [
    {
     "data": {
      "text/plain": "['abcde', '7,', '(1,2,3),', '[1,2,3]abcde', '{2+5},', '(1,2,3)']"
     },
     "execution_count": 66,
     "metadata": {},
     "output_type": "execute_result"
    }
   ],
   "source": [
    "# Array\n",
    "arr1.mean(axis = 2)          # --> It will take a mean along the defined axis. Same for max, min, std, var.\n",
    "arr1.cumsum(axis=0)          # --> prod, cumprod, cumsum also works in the same way. \n",
    "arr1.diagonal()   \n",
    "arr1.reshape(3,4)            # --> resize also work in the same manner. \n",
    "arr1.flatten()               # --> raven also work in the same manner.\n",
    "arr1.sort(axis=1)\n",
    "arr1.argmax(axis=0)\n",
    "\n",
    "# List\n",
    "lis1.sort()                  # --> Sort the array element wise. Returns None but make change in the actual list.  \n",
    "lis1.count('a')              # --> Count the elements using element name.            \n",
    "lis1.index('a')              # --> Give the index based on element name.\n",
    "lis1.reverse()               # --> Returns None but make change in the actual list. \n",
    "\n",
    "# Dictionary\n",
    "dic1.keys()                  # --> Returns a list containing the dictionary's keys. Datatype: <class 'dict_keys'>\n",
    "dic1.values()                # --> Returns a list of all the values in the dictionary.\n",
    "dic1.get('a')                # --> Based on Key name it returns the value.\n",
    "dic1.items()                 # --> Returns a list containing a tuple for each key value pair.\n",
    "\n",
    "# Tuples and also applied to strings --> .sort() and .count()\n",
    "\n",
    "# Strings\n",
    "str1.split()                 # --> Returns a trimmed version of the string. ['abcde', '7,', '(1,2,3),', '[1,2,3]abcde', '{2+5},', '(1,2,3)']\n",
    "# There are many for the strings you can look up later. "
   ],
   "metadata": {
    "collapsed": false,
    "ExecuteTime": {
     "end_time": "2024-05-15T14:08:21.743497Z",
     "start_time": "2024-05-15T14:08:21.734115Z"
    }
   },
   "id": "69200a44d89b4563",
   "execution_count": 66
  },
  {
   "cell_type": "markdown",
   "source": [
    "Python built-in functions"
   ],
   "metadata": {
    "collapsed": false
   },
   "id": "94f791e7181d54d"
  },
  {
   "cell_type": "code",
   "outputs": [],
   "source": [],
   "metadata": {
    "collapsed": false
   },
   "id": "445323936ee4c979"
  },
  {
   "cell_type": "markdown",
   "source": [
    "Comprehension (list and dictionary)"
   ],
   "metadata": {
    "collapsed": false
   },
   "id": "5f52dae37680e8b2"
  },
  {
   "cell_type": "code",
   "outputs": [],
   "source": [],
   "metadata": {
    "collapsed": false
   },
   "id": "c8fc87a8a7d09066"
  },
  {
   "cell_type": "markdown",
   "source": [
    "Operators (+,*) between similar datatypes (list and list) and different datatypes (int and list or string or list etc). "
   ],
   "metadata": {
    "collapsed": false
   },
   "id": "3805de5621b97552"
  },
  {
   "cell_type": "code",
   "outputs": [],
   "source": [],
   "metadata": {
    "collapsed": false
   },
   "id": "bc1468197d675f4"
  }
 ],
 "metadata": {
  "kernelspec": {
   "display_name": "Python 3",
   "language": "python",
   "name": "python3"
  },
  "language_info": {
   "codemirror_mode": {
    "name": "ipython",
    "version": 2
   },
   "file_extension": ".py",
   "mimetype": "text/x-python",
   "name": "python",
   "nbconvert_exporter": "python",
   "pygments_lexer": "ipython2",
   "version": "2.7.6"
  }
 },
 "nbformat": 4,
 "nbformat_minor": 5
}
