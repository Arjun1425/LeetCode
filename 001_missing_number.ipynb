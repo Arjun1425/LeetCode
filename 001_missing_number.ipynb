{
 "cells": [
  {
   "cell_type": "markdown",
   "source": [
    "268. Missing Number"
   ],
   "metadata": {
    "collapsed": false
   },
   "id": "75420bfde135ff3b"
  },
  {
   "cell_type": "code",
   "outputs": [
    {
     "name": "stdout",
     "output_type": "stream",
     "text": [
      "8 \n",
      "Time complexity: O(n) and Space complexity: O(n)\n"
     ]
    }
   ],
   "source": [
    "class Solution:\n",
    "    def missingNumber(self, nums: list) -> int:\n",
    "        len_num = len(nums) + 1\n",
    "        compare_arr = list(range(0 , len_num))\n",
    "        missing_number = [ele for ele in compare_arr if ele not in nums]\n",
    "        return missing_number[0]\n",
    "\n",
    "nums = [9,6,4,2,3,5,7,0,1]\n",
    "print(Solution().missingNumber(nums), '\\n'\"Time complexity: O(n) and Space complexity: O(n)\")"
   ],
   "metadata": {
    "collapsed": true,
    "ExecuteTime": {
     "end_time": "2024-04-09T12:05:44.948295Z",
     "start_time": "2024-04-09T12:05:44.941941Z"
    }
   },
   "id": "initial_id",
   "execution_count": 48
  },
  {
   "cell_type": "code",
   "outputs": [
    {
     "name": "stdout",
     "output_type": "stream",
     "text": [
      "8 \n",
      "Time complexity: O(n) and Space complexity: O(1)\n"
     ]
    }
   ],
   "source": [
    "class Solution:\n",
    "    def missingNumber(self, nums: list) -> int:\n",
    "        len_num = len(nums) \n",
    "        missing_number =  len_num*(len_num+1) // 2 - sum(nums)\n",
    "        return missing_number\n",
    "\n",
    "nums = [9,6,4,2,3,5,7,0,1]\n",
    "print(Solution().missingNumber(nums), '\\n'\"Time complexity: O(n) and Space complexity: O(1)\")  "
   ],
   "metadata": {
    "collapsed": false,
    "ExecuteTime": {
     "end_time": "2024-04-09T12:05:41.093917Z",
     "start_time": "2024-04-09T12:05:41.087235Z"
    }
   },
   "id": "88de6f08b42a47c1",
   "execution_count": 47
  }
 ],
 "metadata": {
  "kernelspec": {
   "display_name": "Python 3",
   "language": "python",
   "name": "python3"
  },
  "language_info": {
   "codemirror_mode": {
    "name": "ipython",
    "version": 2
   },
   "file_extension": ".py",
   "mimetype": "text/x-python",
   "name": "python",
   "nbconvert_exporter": "python",
   "pygments_lexer": "ipython2",
   "version": "2.7.6"
  }
 },
 "nbformat": 4,
 "nbformat_minor": 5
}
