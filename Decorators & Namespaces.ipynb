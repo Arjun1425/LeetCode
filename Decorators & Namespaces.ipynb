{
 "cells": [
  {
   "cell_type": "markdown",
   "source": [
    "Namespaces\n",
    "--> A namespace is a space that holds names(identifiers).Programmatically speaking, namespaces are dictionary of identifiers(keys) and their objects(values)\n",
    "\n",
    "There are 4 types of namespaces or 4 different type of dictionaries:\n",
    "\n",
    "-> Builtin Namespace\n",
    "-> Global Namespace\n",
    "-> Enclosing Namespace\n",
    "-> Local Namespace\n",
    "\n",
    "# Scope and LEGB Rule: local, enclosing, global, and built-in scope\n",
    "\n",
    "A scope is a textual region of a Python program where a namespace is directly accessible.\n",
    "\n",
    "The interpreter searches for a name from the inside out, looking in the local, enclosing, global, and finally the built-in scope. If the interpreter doesn’t find the name in any of these locations, then Python raises a NameError exception."
   ],
   "metadata": {
    "collapsed": false
   },
   "id": "ef1095bd60e36a1f"
  },
  {
   "cell_type": "code",
   "outputs": [
    {
     "name": "stdout",
     "output_type": "stream",
     "text": [
      "3\n",
      "2\n"
     ]
    }
   ],
   "source": [
    "# local and global\n",
    "# global var\n",
    "a = 2\n",
    "\n",
    "def temp():\n",
    "  # local var\n",
    "  b = 3\n",
    "  print(b)\n",
    "\n",
    "temp()\n",
    "print(a)"
   ],
   "metadata": {
    "collapsed": false,
    "ExecuteTime": {
     "end_time": "2024-07-09T03:24:21.347259Z",
     "start_time": "2024-07-09T03:24:21.343161Z"
    }
   },
   "id": "449d977c4ce25e8f",
   "execution_count": 30
  },
  {
   "cell_type": "code",
   "outputs": [
    {
     "name": "stdout",
     "output_type": "stream",
     "text": [
      "3\n",
      "2\n"
     ]
    }
   ],
   "source": [
    "# local and global -> same name\n",
    "a = 2\n",
    "\n",
    "def temp():\n",
    "  # local var\n",
    "  a = 3\n",
    "  print(a)\n",
    "\n",
    "temp()\n",
    "print(a)"
   ],
   "metadata": {
    "collapsed": false,
    "ExecuteTime": {
     "end_time": "2024-07-09T03:24:21.360392Z",
     "start_time": "2024-07-09T03:24:21.356182Z"
    }
   },
   "id": "9feefd3a7c032fa8",
   "execution_count": 31
  },
  {
   "cell_type": "code",
   "outputs": [
    {
     "name": "stdout",
     "output_type": "stream",
     "text": [
      "2\n",
      "2\n"
     ]
    }
   ],
   "source": [
    "# local and global -> local does not have but global has\n",
    "a = 2\n",
    "\n",
    "def temp():\n",
    "  # local var\n",
    "  print(a)\n",
    "\n",
    "temp()\n",
    "print(a)"
   ],
   "metadata": {
    "collapsed": false,
    "ExecuteTime": {
     "end_time": "2024-07-09T03:24:21.365800Z",
     "start_time": "2024-07-09T03:24:21.362438Z"
    }
   },
   "id": "4bd132d4be0d7187",
   "execution_count": 32
  },
  {
   "cell_type": "code",
   "outputs": [
    {
     "ename": "UnboundLocalError",
     "evalue": "local variable 'a' referenced before assignment",
     "output_type": "error",
     "traceback": [
      "\u001B[0;31m---------------------------------------------------------------------------\u001B[0m",
      "\u001B[0;31mUnboundLocalError\u001B[0m                         Traceback (most recent call last)",
      "Cell \u001B[0;32mIn[33], line 9\u001B[0m\n\u001B[1;32m      6\u001B[0m   a \u001B[38;5;241m+\u001B[39m\u001B[38;5;241m=\u001B[39m \u001B[38;5;241m1\u001B[39m\n\u001B[1;32m      7\u001B[0m   \u001B[38;5;28mprint\u001B[39m(a)\n\u001B[0;32m----> 9\u001B[0m \u001B[43mtemp\u001B[49m\u001B[43m(\u001B[49m\u001B[43m)\u001B[49m\n\u001B[1;32m     10\u001B[0m \u001B[38;5;28mprint\u001B[39m(a)\n",
      "Cell \u001B[0;32mIn[33], line 6\u001B[0m, in \u001B[0;36mtemp\u001B[0;34m()\u001B[0m\n\u001B[1;32m      4\u001B[0m \u001B[38;5;28;01mdef\u001B[39;00m \u001B[38;5;21mtemp\u001B[39m():\n\u001B[1;32m      5\u001B[0m   \u001B[38;5;66;03m# local var\u001B[39;00m\n\u001B[0;32m----> 6\u001B[0m   a \u001B[38;5;241m+\u001B[39m\u001B[38;5;241m=\u001B[39m \u001B[38;5;241m1\u001B[39m\n\u001B[1;32m      7\u001B[0m   \u001B[38;5;28mprint\u001B[39m(a)\n",
      "\u001B[0;31mUnboundLocalError\u001B[0m: local variable 'a' referenced before assignment"
     ]
    }
   ],
   "source": [
    "# local and global -> editing global\n",
    "a = 2\n",
    "\n",
    "def temp():\n",
    "  # local var\n",
    "  a += 1\n",
    "  print(a)\n",
    "\n",
    "temp()\n",
    "print(a)"
   ],
   "metadata": {
    "collapsed": false,
    "ExecuteTime": {
     "end_time": "2024-07-09T03:24:21.395382Z",
     "start_time": "2024-07-09T03:24:21.377704Z"
    }
   },
   "id": "c58808c89ae0a633",
   "execution_count": 33
  },
  {
   "cell_type": "code",
   "outputs": [
    {
     "name": "stdout",
     "output_type": "stream",
     "text": [
      "3\n",
      "3\n"
     ]
    }
   ],
   "source": [
    "a = 2\n",
    "\n",
    "def temp():\n",
    "  # local var\n",
    "  global a\n",
    "  a += 1\n",
    "  print(a)\n",
    "\n",
    "temp()\n",
    "print(a)"
   ],
   "metadata": {
    "collapsed": false,
    "ExecuteTime": {
     "end_time": "2024-07-09T03:24:28.081214Z",
     "start_time": "2024-07-09T03:24:28.078697Z"
    }
   },
   "id": "88f08b900c7779ad",
   "execution_count": 34
  },
  {
   "cell_type": "code",
   "outputs": [
    {
     "name": "stdout",
     "output_type": "stream",
     "text": [
      "1\n",
      "1\n"
     ]
    }
   ],
   "source": [
    "# local and global -> global created inside local\n",
    "def temp():\n",
    "  # local var\n",
    "  global a\n",
    "  a = 1\n",
    "  print(a)\n",
    "\n",
    "temp()\n",
    "print(a)"
   ],
   "metadata": {
    "collapsed": false,
    "ExecuteTime": {
     "end_time": "2024-07-09T03:24:32.766426Z",
     "start_time": "2024-07-09T03:24:32.761261Z"
    }
   },
   "id": "ad313c8b1e5982ed",
   "execution_count": 35
  },
  {
   "cell_type": "code",
   "outputs": [
    {
     "name": "stdout",
     "output_type": "stream",
     "text": [
      "5\n",
      "5\n"
     ]
    },
    {
     "ename": "NameError",
     "evalue": "name 'z' is not defined",
     "output_type": "error",
     "traceback": [
      "\u001B[0;31m---------------------------------------------------------------------------\u001B[0m",
      "\u001B[0;31mNameError\u001B[0m                                 Traceback (most recent call last)",
      "Cell \u001B[0;32mIn[36], line 9\u001B[0m\n\u001B[1;32m      7\u001B[0m temp(\u001B[38;5;241m5\u001B[39m)\n\u001B[1;32m      8\u001B[0m \u001B[38;5;28mprint\u001B[39m(a)\n\u001B[0;32m----> 9\u001B[0m \u001B[38;5;28mprint\u001B[39m(\u001B[43mz\u001B[49m)\n",
      "\u001B[0;31mNameError\u001B[0m: name 'z' is not defined"
     ]
    }
   ],
   "source": [
    "# local and global -> function parameter is local\n",
    "def temp(z):\n",
    "  # local var\n",
    "  print(z)\n",
    "\n",
    "a = 5\n",
    "temp(5)\n",
    "print(a)\n",
    "print(z)"
   ],
   "metadata": {
    "collapsed": false,
    "ExecuteTime": {
     "end_time": "2024-07-09T03:24:35.370763Z",
     "start_time": "2024-07-09T03:24:35.346742Z"
    }
   },
   "id": "a025ca0c216b76fd",
   "execution_count": 36
  },
  {
   "cell_type": "code",
   "outputs": [
    {
     "name": "stdout",
     "output_type": "stream",
     "text": [
      "['ArithmeticError', 'AssertionError', 'AttributeError', 'BaseException', 'BlockingIOError', 'BrokenPipeError', 'BufferError', 'BytesWarning', 'ChildProcessError', 'ConnectionAbortedError', 'ConnectionError', 'ConnectionRefusedError', 'ConnectionResetError', 'DeprecationWarning', 'EOFError', 'Ellipsis', 'EnvironmentError', 'Exception', 'False', 'FileExistsError', 'FileNotFoundError', 'FloatingPointError', 'FutureWarning', 'GeneratorExit', 'IOError', 'ImportError', 'ImportWarning', 'IndentationError', 'IndexError', 'InterruptedError', 'IsADirectoryError', 'KeyError', 'KeyboardInterrupt', 'LookupError', 'MemoryError', 'ModuleNotFoundError', 'NameError', 'None', 'NotADirectoryError', 'NotImplemented', 'NotImplementedError', 'OSError', 'OverflowError', 'PendingDeprecationWarning', 'PermissionError', 'ProcessLookupError', 'RecursionError', 'ReferenceError', 'ResourceWarning', 'RuntimeError', 'RuntimeWarning', 'StopAsyncIteration', 'StopIteration', 'SyntaxError', 'SyntaxWarning', 'SystemError', 'SystemExit', 'TabError', 'TimeoutError', 'True', 'TypeError', 'UnboundLocalError', 'UnicodeDecodeError', 'UnicodeEncodeError', 'UnicodeError', 'UnicodeTranslateError', 'UnicodeWarning', 'UserWarning', 'ValueError', 'Warning', 'ZeroDivisionError', '__IPYTHON__', '__build_class__', '__debug__', '__doc__', '__import__', '__loader__', '__name__', '__package__', '__spec__', 'abs', 'all', 'any', 'ascii', 'bin', 'bool', 'breakpoint', 'bytearray', 'bytes', 'callable', 'chr', 'classmethod', 'compile', 'complex', 'copyright', 'credits', 'delattr', 'dict', 'dir', 'display', 'divmod', 'enumerate', 'eval', 'exec', 'execfile', 'filter', 'float', 'format', 'frozenset', 'get_ipython', 'getattr', 'globals', 'hasattr', 'hash', 'help', 'hex', 'id', 'input', 'int', 'isinstance', 'issubclass', 'iter', 'len', 'license', 'list', 'locals', 'map', 'max', 'memoryview', 'min', 'next', 'object', 'oct', 'open', 'ord', 'pow', 'print', 'property', 'range', 'repr', 'reversed', 'round', 'runfile', 'set', 'setattr', 'slice', 'sorted', 'staticmethod', 'str', 'sum', 'super', 'tuple', 'type', 'vars', 'zip']\n"
     ]
    }
   ],
   "source": [
    "# built-in scope\n",
    "import builtins\n",
    "print(dir(builtins))"
   ],
   "metadata": {
    "collapsed": false,
    "ExecuteTime": {
     "end_time": "2024-07-09T03:24:38.068767Z",
     "start_time": "2024-07-09T03:24:38.064913Z"
    }
   },
   "id": "7ddc7d56acc13c3b",
   "execution_count": 37
  },
  {
   "cell_type": "code",
   "outputs": [
    {
     "ename": "TypeError",
     "evalue": "max() takes 0 positional arguments but 1 was given",
     "output_type": "error",
     "traceback": [
      "\u001B[0;31m---------------------------------------------------------------------------\u001B[0m",
      "\u001B[0;31mTypeError\u001B[0m                                 Traceback (most recent call last)",
      "Cell \u001B[0;32mIn[46], line 3\u001B[0m\n\u001B[1;32m      1\u001B[0m \u001B[38;5;66;03m# renaming built-ins\u001B[39;00m\n\u001B[1;32m      2\u001B[0m L \u001B[38;5;241m=\u001B[39m [\u001B[38;5;241m1\u001B[39m,\u001B[38;5;241m2\u001B[39m,\u001B[38;5;241m3\u001B[39m,\u001B[38;5;241m4\u001B[39m,\u001B[38;5;241m5\u001B[39m,\u001B[38;5;241m6\u001B[39m,\u001B[38;5;241m7\u001B[39m,\u001B[38;5;241m8\u001B[39m,\u001B[38;5;241m9\u001B[39m]\n\u001B[0;32m----> 3\u001B[0m \u001B[38;5;28mprint\u001B[39m(\u001B[38;5;28;43mmax\u001B[39;49m\u001B[43m(\u001B[49m\u001B[43mL\u001B[49m\u001B[43m)\u001B[49m)                     \u001B[38;5;66;03m# Here it is using the built-in max().  \u001B[39;00m\n\u001B[1;32m      5\u001B[0m \u001B[38;5;28;01mdef\u001B[39;00m \u001B[38;5;21mmax\u001B[39m():\n\u001B[1;32m      6\u001B[0m   \u001B[38;5;28;01mreturn\u001B[39;00m \u001B[38;5;124m\"\u001B[39m\u001B[38;5;124mHello\u001B[39m\u001B[38;5;124m\"\u001B[39m\n",
      "\u001B[0;31mTypeError\u001B[0m: max() takes 0 positional arguments but 1 was given"
     ]
    }
   ],
   "source": [
    "# renaming built-ins\n",
    "L = [1,2,3,4,5,6,7,8,9]\n",
    "print(max(L))                     # Here it is using the built-in max().  \n",
    "\n",
    "def max():\n",
    "  return \"Hello\"\n",
    "\n",
    "print(max(L))                     # It using max() which is defined in global scope. This is the LEGB rule."
   ],
   "metadata": {
    "collapsed": false,
    "ExecuteTime": {
     "end_time": "2024-07-09T03:25:57.950287Z",
     "start_time": "2024-07-09T03:25:57.936453Z"
    }
   },
   "id": "789b682a20f1ceaa",
   "execution_count": 46
  },
  {
   "cell_type": "markdown",
   "source": [
    "# Enclosing scope --> Nested function. "
   ],
   "metadata": {
    "collapsed": false
   },
   "id": "9d81746737a7b18b"
  },
  {
   "cell_type": "code",
   "outputs": [
    {
     "name": "stdout",
     "output_type": "stream",
     "text": [
      "inner function\n",
      "outer function\n",
      "main program\n"
     ]
    }
   ],
   "source": [
    "def outer():                               # This function scope is the enclosing/non-local scope. \n",
    "  def inner():                             # This function scope is local scope.\n",
    "    print(\"inner function\")\n",
    "  inner()\n",
    "  print('outer function')\n",
    "\n",
    "outer()                                    # This is from the Global scope. \n",
    "print('main program')"
   ],
   "metadata": {
    "collapsed": false,
    "ExecuteTime": {
     "end_time": "2024-07-09T13:19:11.932432Z",
     "start_time": "2024-07-09T13:19:11.911666Z"
    }
   },
   "id": "889aede639306be0",
   "execution_count": 47
  },
  {
   "cell_type": "code",
   "outputs": [
    {
     "name": "stdout",
     "output_type": "stream",
     "text": [
      "inner function\n",
      "local scope\n",
      "outer function\n",
      "main program\n"
     ]
    }
   ],
   "source": [
    "def outer():                               # This function scope is second enclosing/non-local scope. \n",
    "  def inner():                             # This function scope is first enclosing/non-local scope.\n",
    "    print(\"inner function\")\n",
    "    def deep():                            # This function scope is local scope.\n",
    "      print(\"local scope\")\n",
    "    deep()\n",
    "  inner()\n",
    "  print('outer function')\n",
    "\n",
    "outer()                                    # This is from the Global scope. \n",
    "print('main program')"
   ],
   "metadata": {
    "collapsed": false,
    "ExecuteTime": {
     "end_time": "2024-07-09T13:19:21.333194Z",
     "start_time": "2024-07-09T13:19:21.326696Z"
    }
   },
   "id": "1dc20a6f7e00c904",
   "execution_count": 48
  },
  {
   "cell_type": "markdown",
   "source": [
    "Decorators\n",
    "A decorator in python is a function that receives another function as input and adds some functionality(decoration) to it and returns it.\n",
    "\n",
    "This can happen only because python functions are 1st class citizens.\n",
    "\n",
    "There are 2 types of decorators available in python\n",
    "--> Built in decorators like @staticmethod, @classmethod, @abstractmethod and @property etc\n",
    "--> User defined decorators that we programmers can create according to our needs"
   ],
   "metadata": {
    "collapsed": false
   },
   "id": "a2c1a8198a3e8390"
  },
  {
   "cell_type": "markdown",
   "source": [
    "In Python, a closure is a function object that remembers values in the enclosing scope even if they are not present in memory. It's a nested function that has access to variables in its enclosing function, even after the outer function has finished executing."
   ],
   "metadata": {
    "collapsed": false
   },
   "id": "645cdb73988c108a"
  },
  {
   "cell_type": "code",
   "outputs": [
    {
     "name": "stdout",
     "output_type": "stream",
     "text": [
      "<function outer_function.<locals>.inner_function at 0x105990310> <class 'function'>\n",
      "5\n"
     ]
    }
   ],
   "source": [
    "def outer_function(x):\n",
    "  def inner_function(y):\n",
    "    return x + y                       # Here even after the outer_function is not in the memory the inner_function still can excess the outer_function variables.  \n",
    "  return inner_function\n",
    "\n",
    "closuer = outer_function(1)\n",
    "print(closuer, type(closuer))\n",
    "print(closuer(4))"
   ],
   "metadata": {
    "collapsed": false,
    "ExecuteTime": {
     "end_time": "2024-07-09T14:07:38.280501Z",
     "start_time": "2024-07-09T14:07:38.274115Z"
    }
   },
   "id": "f2d68885d23c1bdf",
   "execution_count": 51
  },
  {
   "cell_type": "code",
   "outputs": [
    {
     "name": "stdout",
     "output_type": "stream",
     "text": [
      "<function outer.<locals>.inner at 0x1059a2310>\n",
      "5\n"
     ]
    }
   ],
   "source": [
    "def outer():\n",
    "  a = 5\n",
    "  def inner():\n",
    "    return a\n",
    "  return inner\n",
    "\n",
    "b = outer()\n",
    "print(b)\n",
    "print(b())"
   ],
   "metadata": {
    "collapsed": false,
    "ExecuteTime": {
     "end_time": "2024-07-09T14:13:13.642318Z",
     "start_time": "2024-07-09T14:13:13.635200Z"
    }
   },
   "id": "26d7d6ed8e33deb1",
   "execution_count": 55
  },
  {
   "cell_type": "code",
   "outputs": [
    {
     "name": "stdout",
     "output_type": "stream",
     "text": [
      "<function decorator.<locals>.wrapper at 0x1059cab80>\n",
      "********************\n",
      "Arjun Singh\n",
      "********************\n",
      "None\n",
      "********************\n",
      "New function\n",
      "********************\n",
      "None\n"
     ]
    }
   ],
   "source": [
    "# Now we want to make a function which takes another function as an argument and decorate it. And gives us the function as a return. \n",
    "\n",
    "def decorator(func):\n",
    "  def wrapper():\n",
    "    print(\"*\"*20)\n",
    "    func()\n",
    "    print(\"*\"*20)\n",
    "  return wrapper                               # Here even after the end of decorator the wrapper can access its variables. \n",
    "\n",
    "def name():\n",
    "  print(\"Arjun Singh\")\n",
    "\n",
    "a = decorator(name)                            # Here I am directly able to access the inner function from the main program. \n",
    "print(a)\n",
    "print(a())\n",
    "\n",
    "# Now if I want to decorate another function like that. --> So you can use the same decorator to decorate many functions.\n",
    "\n",
    "def other():\n",
    "  print('New function')\n",
    "\n",
    "a = decorator(other)\n",
    "print(a())"
   ],
   "metadata": {
    "collapsed": false,
    "ExecuteTime": {
     "end_time": "2024-07-09T14:33:31.350425Z",
     "start_time": "2024-07-09T14:33:31.338314Z"
    }
   },
   "id": "e5d0375853983a2e",
   "execution_count": 67
  },
  {
   "cell_type": "code",
   "outputs": [
    {
     "name": "stdout",
     "output_type": "stream",
     "text": [
      "b\n"
     ]
    }
   ],
   "source": [
    "def outer():\n",
    "  def inner():\n",
    "    return 'a'                             # This value \"a\" is stored in the inner() scope and not in outer().\n",
    "  inner()                                    \n",
    "  return 'b'\n",
    "\n",
    "print(outer())"
   ],
   "metadata": {
    "collapsed": false,
    "ExecuteTime": {
     "end_time": "2024-07-09T14:25:18.533605Z",
     "start_time": "2024-07-09T14:25:18.526702Z"
    }
   },
   "id": "bccb176b315d9196",
   "execution_count": 64
  },
  {
   "cell_type": "code",
   "outputs": [
    {
     "name": "stdout",
     "output_type": "stream",
     "text": [
      "********************\n",
      "Arjun Singh\n",
      "********************\n"
     ]
    }
   ],
   "source": [
    "# Better syntax --> W/O calling decorator and storing it on 'a' and then executing it. \n",
    "\n",
    "def decorator(func):\n",
    "  def wrapper():\n",
    "    print(\"*\"*20)\n",
    "    func()                            \n",
    "    print(\"*\"*20)\n",
    "  return wrapper                             \n",
    "\n",
    "@decorator                               # --> Use this for the function which is going in the decorator function.\n",
    "def name():\n",
    "  print(\"Arjun Singh\")\n",
    "\n",
    "name()"
   ],
   "metadata": {
    "collapsed": false,
    "ExecuteTime": {
     "end_time": "2024-07-09T14:42:15.852728Z",
     "start_time": "2024-07-09T14:42:15.841900Z"
    }
   },
   "id": "ef30cd76ad087e98",
   "execution_count": 68
  },
  {
   "cell_type": "code",
   "outputs": [
    {
     "name": "stdout",
     "output_type": "stream",
     "text": [
      "Hello World\n",
      "The hello function took 0.0003848075866699219 sec\n",
      "Arjun Singh\n",
      "The name function took 7.152557373046875e-06 sec\n"
     ]
    }
   ],
   "source": [
    "# Anything meaningful --> Want to make a decorator which tells the execution time of any function.  \n",
    "import time\n",
    "\n",
    "def timer(func):\n",
    "  def wrapper():\n",
    "    start = time.time()\n",
    "    func()\n",
    "    end = time.time()\n",
    "    print(f\"The {func.__name__} function took {end-start} sec\")\n",
    "  return wrapper\n",
    "\n",
    "@timer\n",
    "def hello():\n",
    "  print(\"Hello World\")\n",
    "\n",
    "@timer\n",
    "def name():\n",
    "  print(\"Arjun Singh\")\n",
    "\n",
    "hello()\n",
    "name()"
   ],
   "metadata": {
    "collapsed": false,
    "ExecuteTime": {
     "end_time": "2024-07-09T14:59:21.288907Z",
     "start_time": "2024-07-09T14:59:21.280232Z"
    }
   },
   "id": "55901970d4345cfe",
   "execution_count": 72
  },
  {
   "cell_type": "code",
   "outputs": [
    {
     "ename": "TypeError",
     "evalue": "wrapper() takes 0 positional arguments but 1 was given",
     "output_type": "error",
     "traceback": [
      "\u001B[0;31m---------------------------------------------------------------------------\u001B[0m",
      "\u001B[0;31mTypeError\u001B[0m                                 Traceback (most recent call last)",
      "Cell \u001B[0;32mIn[74], line 17\u001B[0m\n\u001B[1;32m     13\u001B[0m \u001B[38;5;129m@timer\u001B[39m\n\u001B[1;32m     14\u001B[0m \u001B[38;5;28;01mdef\u001B[39;00m \u001B[38;5;21msq\u001B[39m(num):\n\u001B[1;32m     15\u001B[0m   \u001B[38;5;28mprint\u001B[39m(\u001B[38;5;124mf\u001B[39m\u001B[38;5;124m'\u001B[39m\u001B[38;5;132;01m{\u001B[39;00mnum\u001B[38;5;241m*\u001B[39m\u001B[38;5;241m*\u001B[39m\u001B[38;5;241m2\u001B[39m\u001B[38;5;132;01m}\u001B[39;00m\u001B[38;5;124m'\u001B[39m)\n\u001B[0;32m---> 17\u001B[0m \u001B[43msq\u001B[49m\u001B[43m(\u001B[49m\u001B[38;5;241;43m4\u001B[39;49m\u001B[43m)\u001B[49m\n",
      "\u001B[0;31mTypeError\u001B[0m: wrapper() takes 0 positional arguments but 1 was given"
     ]
    }
   ],
   "source": [
    "# Now I want to make my decorator such that it can handle the arguments of the functions too. \n",
    "\n",
    "import time\n",
    "\n",
    "def timer(func):\n",
    "  def wrapper():\n",
    "    start = time.time()\n",
    "    func()                               # wrapper() takes 0 positional arguments but 1 was given. The sq() requires 1 argument. \n",
    "    end = time.time()\n",
    "    print(f\"The {func.__name__} function took {end-start} sec\")\n",
    "  return wrapper\n",
    "\n",
    "@timer\n",
    "def sq(num):\n",
    "  print(f'{num**2}')\n",
    "\n",
    "sq(4)"
   ],
   "metadata": {
    "collapsed": false,
    "ExecuteTime": {
     "end_time": "2024-07-09T15:03:03.635882Z",
     "start_time": "2024-07-09T15:03:03.601473Z"
    }
   },
   "id": "c3382d6da7265343",
   "execution_count": 74
  },
  {
   "cell_type": "code",
   "outputs": [
    {
     "name": "stdout",
     "output_type": "stream",
     "text": [
      "16\n",
      "The sq function took 0.0002560615539550781 sec\n",
      "8\n",
      "The pow function took 4.0531158447265625e-06 sec\n"
     ]
    }
   ],
   "source": [
    "# Fixing above problem \n",
    "import time\n",
    "\n",
    "def timer(func):\n",
    "  def wrapper(*args):\n",
    "    start = time.time()\n",
    "    func(*args)                              \n",
    "    end = time.time()\n",
    "    print(f\"The {func.__name__} function took {end-start} sec\")\n",
    "  return wrapper\n",
    "\n",
    "@timer\n",
    "def sq(num):\n",
    "  print(f'{num**2}')\n",
    "\n",
    "@timer\n",
    "def pow(a,b):\n",
    "  print(f'{a**b}')\n",
    "\n",
    "sq(4)\n",
    "pow(2,3)"
   ],
   "metadata": {
    "collapsed": false,
    "ExecuteTime": {
     "end_time": "2024-07-09T15:05:50.805645Z",
     "start_time": "2024-07-09T15:05:50.787381Z"
    }
   },
   "id": "fc7c6e6a616fc5ac",
   "execution_count": 76
  },
  {
   "cell_type": "code",
   "outputs": [
    {
     "name": "stdout",
     "output_type": "stream",
     "text": [
      "16\n"
     ]
    },
    {
     "ename": "TypeError",
     "evalue": "Please enter a valid data type",
     "output_type": "error",
     "traceback": [
      "\u001B[0;31m---------------------------------------------------------------------------\u001B[0m",
      "\u001B[0;31mTypeError\u001B[0m                                 Traceback (most recent call last)",
      "Cell \u001B[0;32mIn[82], line 19\u001B[0m\n\u001B[1;32m     16\u001B[0m   \u001B[38;5;28mprint\u001B[39m(\u001B[38;5;124mf\u001B[39m\u001B[38;5;124m'\u001B[39m\u001B[38;5;132;01m{\u001B[39;00mnum\u001B[38;5;241m*\u001B[39m\u001B[38;5;241m*\u001B[39m\u001B[38;5;241m2\u001B[39m\u001B[38;5;132;01m}\u001B[39;00m\u001B[38;5;124m'\u001B[39m)\n\u001B[1;32m     18\u001B[0m sq(\u001B[38;5;241m4\u001B[39m)\n\u001B[0;32m---> 19\u001B[0m \u001B[43msq\u001B[49m\u001B[43m(\u001B[49m\u001B[38;5;124;43m'\u001B[39;49m\u001B[38;5;124;43mhello\u001B[39;49m\u001B[38;5;124;43m'\u001B[39;49m\u001B[43m)\u001B[49m\n",
      "Cell \u001B[0;32mIn[82], line 10\u001B[0m, in \u001B[0;36mchk_dt_func.<locals>.outer_wrapper.<locals>.inner_wrapper\u001B[0;34m(*args)\u001B[0m\n\u001B[1;32m      8\u001B[0m   func(\u001B[38;5;241m*\u001B[39margs)\n\u001B[1;32m      9\u001B[0m \u001B[38;5;28;01melse\u001B[39;00m:\n\u001B[0;32m---> 10\u001B[0m   \u001B[38;5;28;01mraise\u001B[39;00m \u001B[38;5;167;01mTypeError\u001B[39;00m(\u001B[38;5;124m'\u001B[39m\u001B[38;5;124mPlease enter a valid data type\u001B[39m\u001B[38;5;124m'\u001B[39m)\n",
      "\u001B[0;31mTypeError\u001B[0m: Please enter a valid data type"
     ]
    }
   ],
   "source": [
    "# One more example --> decorators with arguments\n",
    "# I want to make a decorator which checks the arguments of the function and tells is it right or wrong. \n",
    "# Check this code in https://pythontutor.com/render.html#mode=display \n",
    "\n",
    "def chk_dt_func(data_type):\n",
    "  def outer_wrapper(func):\n",
    "    def inner_wrapper(*args):\n",
    "      if type(*args) == data_type:                      # --> args is tuple, so we can take args[0] or *args. \n",
    "        func(*args)\n",
    "      else:\n",
    "        raise TypeError('Please enter a valid data type')\n",
    "    return inner_wrapper\n",
    "  return outer_wrapper\n",
    "\n",
    "@chk_dt_func(int)\n",
    "def sq(num):\n",
    "  print(f'{num**2}')\n",
    "\n",
    "sq(4)\n",
    "sq('hello')"
   ],
   "metadata": {
    "collapsed": false,
    "ExecuteTime": {
     "end_time": "2024-07-09T15:31:29.354233Z",
     "start_time": "2024-07-09T15:31:29.317333Z"
    }
   },
   "id": "4088d40b2b8a727d",
   "execution_count": 82
  }
 ],
 "metadata": {
  "kernelspec": {
   "display_name": "Python 3",
   "language": "python",
   "name": "python3"
  },
  "language_info": {
   "codemirror_mode": {
    "name": "ipython",
    "version": 2
   },
   "file_extension": ".py",
   "mimetype": "text/x-python",
   "name": "python",
   "nbconvert_exporter": "python",
   "pygments_lexer": "ipython2",
   "version": "2.7.6"
  }
 },
 "nbformat": 4,
 "nbformat_minor": 5
}
