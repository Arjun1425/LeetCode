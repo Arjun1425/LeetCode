{
 "cells": [
  {
   "cell_type": "markdown",
   "source": [
    "1464. Maximum Product of Two Elements in an Array"
   ],
   "metadata": {
    "collapsed": false
   },
   "id": "6969532423a3622d"
  },
  {
   "cell_type": "code",
   "outputs": [
    {
     "name": "stdout",
     "output_type": "stream",
     "text": [
      "16\n"
     ]
    }
   ],
   "source": [
    "class Solution:\n",
    "    def maxProduct(self, nums: list[int]) -> int:\n",
    "        index: int = 0; number: int = 0 ; second_num: int = 0\n",
    "        if len(nums) == 2:\n",
    "            return (nums[0] - 1)*(nums[1] -1)\n",
    "        for i in range(len(nums)):            \n",
    "            if nums[i] >= number:\n",
    "                number = nums[i]\n",
    "                index: int = i        \n",
    "        for j in range(len(nums)):\n",
    "            if second_num <= nums[j] <= number and index != j:\n",
    "                second_num = nums[j]\n",
    "        return (number - 1)*(second_num - 1) \n",
    "    \n",
    "    \n",
    "nums = [1,5,4,5]\n",
    "print(Solution().maxProduct(nums))"
   ],
   "metadata": {
    "collapsed": true,
    "ExecuteTime": {
     "end_time": "2024-04-15T12:51:09.052786Z",
     "start_time": "2024-04-15T12:51:09.047030Z"
    }
   },
   "id": "initial_id",
   "execution_count": 50
  },
  {
   "cell_type": "markdown",
   "source": [
    "Using sorted function. "
   ],
   "metadata": {
    "collapsed": false
   },
   "id": "d36ce7effba84aff"
  },
  {
   "cell_type": "code",
   "outputs": [
    {
     "name": "stdout",
     "output_type": "stream",
     "text": [
      "16\n"
     ]
    }
   ],
   "source": [
    "class Solution:\n",
    "    def maxProduct(self, nums: list[int]) -> int:\n",
    "        return (sorted(nums)[-1] - 1)*(sorted(nums)[-2] - 1)\n",
    "\n",
    "nums = [1,5,4,5]\n",
    "print(Solution().maxProduct(nums))"
   ],
   "metadata": {
    "collapsed": false,
    "ExecuteTime": {
     "end_time": "2024-04-15T12:51:02.772773Z",
     "start_time": "2024-04-15T12:51:02.767063Z"
    }
   },
   "id": "3cb34a3f30ddb37b",
   "execution_count": 42
  },
  {
   "cell_type": "markdown",
   "source": [
    "The sorted() function creates a new list, while the list.sort() method sorts the list in-place. This means that the sorted() function is slower than the list.sort() method, especially for large lists.\n"
   ],
   "metadata": {
    "collapsed": false
   },
   "id": "62b48c5396e41cd5"
  },
  {
   "cell_type": "code",
   "outputs": [
    {
     "name": "stdout",
     "output_type": "stream",
     "text": [
      "16\n"
     ]
    }
   ],
   "source": [
    "class Solution:\n",
    "    def maxProduct(self, nums: list[int]) -> int:\n",
    "        nums.sort()\n",
    "        return (nums[-1] - 1)*(nums[-2] - 1)\n",
    "\n",
    "nums = [1,5,4,5]\n",
    "print(Solution().maxProduct(nums))"
   ],
   "metadata": {
    "collapsed": false,
    "ExecuteTime": {
     "end_time": "2024-04-15T12:50:57.633639Z",
     "start_time": "2024-04-15T12:50:57.627829Z"
    }
   },
   "id": "be5ab6d58529fef8",
   "execution_count": 38
  }
 ],
 "metadata": {
  "kernelspec": {
   "display_name": "Python 3",
   "language": "python",
   "name": "python3"
  },
  "language_info": {
   "codemirror_mode": {
    "name": "ipython",
    "version": 2
   },
   "file_extension": ".py",
   "mimetype": "text/x-python",
   "name": "python",
   "nbconvert_exporter": "python",
   "pygments_lexer": "ipython2",
   "version": "2.7.6"
  }
 },
 "nbformat": 4,
 "nbformat_minor": 5
}
