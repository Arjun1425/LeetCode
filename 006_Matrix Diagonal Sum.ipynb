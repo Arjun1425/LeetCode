{
 "cells": [
  {
   "cell_type": "markdown",
   "source": [
    "1572. Matrix Diagonal Sum"
   ],
   "metadata": {
    "collapsed": false
   },
   "id": "f4b111a5b57f0b3d"
  },
  {
   "cell_type": "code",
   "outputs": [
    {
     "name": "stdout",
     "output_type": "stream",
     "text": [
      "5 \n",
      "Time Complexity: O(n) and  Space Complexity: O(1)\n"
     ]
    }
   ],
   "source": [
    "class Solution:\n",
    "    def diagonalSum(self, mat: list[list[int]]) -> int:\n",
    "        sum1 : int = 0\n",
    "        for i in range(len(mat)):\n",
    "            sum1+=mat[i][i]            \n",
    "            sum1 += mat[i][-i-1]       \n",
    "        if len(mat)%2 == 0: \n",
    "            return sum1 \n",
    "        else: \n",
    "            return sum1 - mat[len(mat)//2][len(mat)//2]\n",
    "\n",
    "mat = [[5]]\n",
    "print(Solution().diagonalSum(mat), '\\n'\"Time Complexity: O(n) and  Space Complexity: O(1)\")"
   ],
   "metadata": {
    "collapsed": true,
    "ExecuteTime": {
     "end_time": "2024-04-17T12:33:13.067071Z",
     "start_time": "2024-04-17T12:33:13.058998Z"
    }
   },
   "id": "initial_id",
   "execution_count": 15
  }
 ],
 "metadata": {
  "kernelspec": {
   "display_name": "Python 3",
   "language": "python",
   "name": "python3"
  },
  "language_info": {
   "codemirror_mode": {
    "name": "ipython",
    "version": 2
   },
   "file_extension": ".py",
   "mimetype": "text/x-python",
   "name": "python",
   "nbconvert_exporter": "python",
   "pygments_lexer": "ipython2",
   "version": "2.7.6"
  }
 },
 "nbformat": 4,
 "nbformat_minor": 5
}
