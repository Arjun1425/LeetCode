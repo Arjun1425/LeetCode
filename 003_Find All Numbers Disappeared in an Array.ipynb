{
 "cells": [
  {
   "cell_type": "markdown",
   "source": [
    "448. Find All Numbers Disappeared in an Array"
   ],
   "metadata": {
    "collapsed": false
   },
   "id": "58825a646c242804"
  },
  {
   "cell_type": "markdown",
   "source": [
    "Performance:\n",
    "1. The not in operator can be faster than a for loop, especially for large lists. This is because the not in operator can use a hash table to look up the value of x, while the for loop has to iterate over the entire list.\n",
    "2. The not in operator can be significantly slower than the in operator, especially for large collections. This is because the not in operator has to check every element in the collection to see if it is not equal to the target value, whereas the in operator can stop checking as soon as it finds a match."
   ],
   "metadata": {
    "collapsed": false
   },
   "id": "a0e2641b0a55b076"
  },
  {
   "cell_type": "code",
   "outputs": [
    {
     "name": "stdout",
     "output_type": "stream",
     "text": [
      "[5, 6] \n",
      "Time complexity: O(n) Space: O(1)\n"
     ]
    }
   ],
   "source": [
    "class Solution:\n",
    "    def findDisappearedNumbers(self, nums: list[int]) -> list[int]:\n",
    "        return [i for i in list(range(1, len(nums) + 1)) if not i in nums]\n",
    "\n",
    "nums = [4,3,2,7,8,2,3,1]\n",
    "print(Solution().findDisappearedNumbers(nums), '\\n'\"Time complexity: O(n) Space: O(1)\")"
   ],
   "metadata": {
    "collapsed": true,
    "ExecuteTime": {
     "end_time": "2024-04-15T11:20:26.917561Z",
     "start_time": "2024-04-15T11:20:26.911388Z"
    }
   },
   "id": "initial_id",
   "execution_count": 7
  }
 ],
 "metadata": {
  "kernelspec": {
   "display_name": "Python 3",
   "language": "python",
   "name": "python3"
  },
  "language_info": {
   "codemirror_mode": {
    "name": "ipython",
    "version": 2
   },
   "file_extension": ".py",
   "mimetype": "text/x-python",
   "name": "python",
   "nbconvert_exporter": "python",
   "pygments_lexer": "ipython2",
   "version": "2.7.6"
  }
 },
 "nbformat": 4,
 "nbformat_minor": 5
}
