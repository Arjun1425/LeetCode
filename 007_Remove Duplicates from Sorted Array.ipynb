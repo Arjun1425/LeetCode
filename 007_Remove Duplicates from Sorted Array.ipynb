{
 "cells": [
  {
   "cell_type": "markdown",
   "source": [
    "26. Remove Duplicates from Sorted Array"
   ],
   "metadata": {
    "collapsed": false
   },
   "id": "6f60086099e90ed6"
  },
  {
   "cell_type": "code",
   "outputs": [
    {
     "name": "stdout",
     "output_type": "stream",
     "text": [
      "5 nums = [0, 1, 2, 3, 4] \n",
      "Time Complexity: O(n) and Space Complexity: O(n)\n"
     ]
    }
   ],
   "source": [
    "out: list[int] = []\n",
    "class Solution:\n",
    "    def removeDuplicates(self, nums: list[int]) -> int:\n",
    "        count_: int = 0\n",
    "        for i in range(len(nums)):\n",
    "            if i == 0:\n",
    "                out.append(nums[i])\n",
    "                count_+=1\n",
    "            else:\n",
    "                if nums[i] == nums[i - 1]: pass\n",
    "                else:\n",
    "                    out.append(nums[i])\n",
    "                    count_+=1\n",
    "        return count_\n",
    "\n",
    "nums = [0,0,1,1,1,2,2,3,3,4]\n",
    "print(Solution().removeDuplicates(nums), f\"nums = {out}\", '\\n'\"Time Complexity: O(n) and Space Complexity: O(n)\")"
   ],
   "metadata": {
    "collapsed": true,
    "ExecuteTime": {
     "end_time": "2024-04-18T12:40:27.704523Z",
     "start_time": "2024-04-18T12:40:27.685492Z"
    }
   },
   "id": "initial_id",
   "execution_count": 32
  }
 ],
 "metadata": {
  "kernelspec": {
   "display_name": "Python 3",
   "language": "python",
   "name": "python3"
  },
  "language_info": {
   "codemirror_mode": {
    "name": "ipython",
    "version": 2
   },
   "file_extension": ".py",
   "mimetype": "text/x-python",
   "name": "python",
   "nbconvert_exporter": "python",
   "pygments_lexer": "ipython2",
   "version": "2.7.6"
  }
 },
 "nbformat": 4,
 "nbformat_minor": 5
}
